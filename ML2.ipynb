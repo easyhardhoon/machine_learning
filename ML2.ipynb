{
  "nbformat": 4,
  "nbformat_minor": 0,
  "metadata": {
    "colab": {
      "name": "ML2.ipynb",
      "provenance": [],
      "collapsed_sections": [],
      "authorship_tag": "ABX9TyMrpWGhhBlLBElHSqVtWUVP",
      "include_colab_link": true
    },
    "kernelspec": {
      "name": "python3",
      "display_name": "Python 3"
    },
    "language_info": {
      "name": "python"
    }
  },
  "cells": [
    {
      "cell_type": "markdown",
      "metadata": {
        "id": "view-in-github",
        "colab_type": "text"
      },
      "source": [
        "<a href=\"https://colab.research.google.com/github/easyhardhoon/machine_learning/blob/master/ML2.ipynb\" target=\"_parent\"><img src=\"https://colab.research.google.com/assets/colab-badge.svg\" alt=\"Open In Colab\"/></a>"
      ]
    },
    {
      "cell_type": "code",
      "execution_count": 1,
      "metadata": {
        "id": "BmWH3WmHCVeC"
      },
      "outputs": [],
      "source": [
        "def AND(x1,x2):\n",
        "  w1,w2,theta = 0.5,0.5,0.7\n",
        "  tmp = x1*w1 + x2*w2\n",
        "  if tmp <= theta:\n",
        "    return 0\n",
        "  elif tmp > theta:\n",
        "    return 1\n",
        "  "
      ]
    },
    {
      "cell_type": "code",
      "source": [
        "AND(0,0)"
      ],
      "metadata": {
        "colab": {
          "base_uri": "https://localhost:8080/"
        },
        "id": "nth5MKQWCwJS",
        "outputId": "bdd8e89d-854f-4aa5-a8ae-7066b356c3e3"
      },
      "execution_count": 2,
      "outputs": [
        {
          "output_type": "execute_result",
          "data": {
            "text/plain": [
              "0"
            ]
          },
          "metadata": {},
          "execution_count": 2
        }
      ]
    },
    {
      "cell_type": "code",
      "source": [
        "AND(1,0)"
      ],
      "metadata": {
        "colab": {
          "base_uri": "https://localhost:8080/"
        },
        "id": "SynlOAhbCx2t",
        "outputId": "3b351bbf-411b-43c9-b444-9b99e7ddaff8"
      },
      "execution_count": 3,
      "outputs": [
        {
          "output_type": "execute_result",
          "data": {
            "text/plain": [
              "0"
            ]
          },
          "metadata": {},
          "execution_count": 3
        }
      ]
    },
    {
      "cell_type": "code",
      "source": [
        "AND(1,1)"
      ],
      "metadata": {
        "colab": {
          "base_uri": "https://localhost:8080/"
        },
        "id": "DRZB4266C3DJ",
        "outputId": "730443e8-bf94-4f93-860b-255090238f85"
      },
      "execution_count": 4,
      "outputs": [
        {
          "output_type": "execute_result",
          "data": {
            "text/plain": [
              "1"
            ]
          },
          "metadata": {},
          "execution_count": 4
        }
      ]
    },
    {
      "cell_type": "code",
      "source": [
        "import numpy as np\n",
        "def AND2(x1,x2):\n",
        "  x = np.array([x1,x2])\n",
        "  w = np.array([0.5,0.5])\n",
        "  b = -0.7\n",
        "  tmp = np.sum(w*x) + b\n",
        "  if tmp <= 0:\n",
        "    return 0\n",
        "  else:\n",
        "    return 1\n",
        "def NAND(x1,x2):\n",
        "  x = np.array([x1,x2])\n",
        "  y = np.array([-0.5,-0.5])\n",
        "  b = 0.7\n",
        "  tmp = np.sum(x*y) + b\n",
        "  if tmp <= 0:\n",
        "    return 0\n",
        "  else:\n",
        "    return 1\n",
        "def OR(x1,x2):\n",
        "  x = np.array([x1,x2])\n",
        "  y = np.array([0.5,0.5])\n",
        "  b = -0.3\n",
        "  tmp = np.sum(x*y) + b\n",
        "  if tmp <= 0:\n",
        "    return 0\n",
        "  else:\n",
        "    return 1\n",
        "#전반적인 구조는 같다, 다 같은 구조의 퍼셉트론이고 차이는 오직 가중치와 편향 값을 설정하는 부분이다."
      ],
      "metadata": {
        "id": "B0Uf5pbYC5pl"
      },
      "execution_count": 11,
      "outputs": []
    },
    {
      "cell_type": "code",
      "source": [
        "#가중치는 각 입력 신호가 결과에 주는 영향력(중요도)를 조절하는 매개변수\n",
        "#편향은 뉴런이 얼마나 쉽게 활성화되는지를 조정(결정)하는 매개변수"
      ],
      "metadata": {
        "id": "fLbh_XjjIwB3"
      },
      "execution_count": 12,
      "outputs": []
    },
    {
      "cell_type": "code",
      "source": [
        "print(AND(1,0), NAND(1,0), OR(1,0))"
      ],
      "metadata": {
        "colab": {
          "base_uri": "https://localhost:8080/"
        },
        "id": "U_hSoKN-MOFr",
        "outputId": "117fa741-3fe0-4c0a-87d0-c3e104cf7275"
      },
      "execution_count": 13,
      "outputs": [
        {
          "output_type": "stream",
          "name": "stdout",
          "text": [
            "0 1 1\n"
          ]
        }
      ]
    },
    {
      "cell_type": "code",
      "source": [
        "print(AND(1,1),NAND(1,1),OR(1,1))"
      ],
      "metadata": {
        "colab": {
          "base_uri": "https://localhost:8080/"
        },
        "id": "I1Fsz9ZtMTmU",
        "outputId": "5db50f55-972d-4c3b-92a6-ee64ad0ff382"
      },
      "execution_count": 14,
      "outputs": [
        {
          "output_type": "stream",
          "name": "stdout",
          "text": [
            "1 0 1\n"
          ]
        }
      ]
    },
    {
      "cell_type": "code",
      "source": [
        "def XOR(x1,x2):\n",
        "  x = np.array([x1,x2])\n",
        "  y = np.array([0.5,0.5])\n",
        "  b = 0\n",
        "  tmp = np.sum(x*y) + b\n",
        "  if tmp <= 0:\n",
        "    return 0\n",
        "  else:\n",
        "    return 1\n",
        "  # 기존의 퍼셉트론의 구조로는 불가능. 절댓값 사용..?\n",
        "  # 기존의 단층 퍼셉트론으로는 비선형 영역을 분리할 수 없다\n",
        "  # 층을 쌓아서 XOR 게이트를 구현할 수 있다."
      ],
      "metadata": {
        "id": "2Q1lVJkwMan3"
      },
      "execution_count": 15,
      "outputs": []
    },
    {
      "cell_type": "code",
      "source": [
        "def XOR2(x1,x2):\n",
        "  s1 = NAND(x1,x2)\n",
        "  s2 = OR(x1,x2)\n",
        "  y = AND(s1,s2)\n",
        "  return y"
      ],
      "metadata": {
        "id": "PVb-lAfsXTQt"
      },
      "execution_count": 23,
      "outputs": []
    },
    {
      "cell_type": "code",
      "source": [
        "print(XOR2(1,0),XOR2(0,1)\n",
        ",XOR2(1,1),\n",
        "XOR2(0,0))\n",
        "#단층 퍼셉트론으로는 표현하지 못한 것을 층을 하나 늘려 구현할 수 있다"
      ],
      "metadata": {
        "colab": {
          "base_uri": "https://localhost:8080/"
        },
        "id": "8aNH7VVgXeVI",
        "outputId": "f0577e1e-7f97-4f16-9d01-592267378ed7"
      },
      "execution_count": 24,
      "outputs": [
        {
          "output_type": "stream",
          "name": "stdout",
          "text": [
            "1 1 0 0\n"
          ]
        }
      ]
    },
    {
      "cell_type": "code",
      "source": [
        "#퍼셉트론은 층을 거듭  쌓으면 비선형적인 표현도 가능하고, 이론상 컴퓨터가 수행하는 처리도 모두 표현 가능하다"
      ],
      "metadata": {
        "id": "JcOq1byPXmgn"
      },
      "execution_count": null,
      "outputs": []
    }
  ]
}