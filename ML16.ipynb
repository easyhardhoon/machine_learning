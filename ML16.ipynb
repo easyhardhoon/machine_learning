{
  "nbformat": 4,
  "nbformat_minor": 0,
  "metadata": {
    "colab": {
      "name": "ML16.ipynb",
      "provenance": [],
      "collapsed_sections": [],
      "authorship_tag": "ABX9TyNtTiBHQ7TSeNkQVJ6kJ1Og",
      "include_colab_link": true
    },
    "kernelspec": {
      "name": "python3",
      "display_name": "Python 3"
    },
    "language_info": {
      "name": "python"
    }
  },
  "cells": [
    {
      "cell_type": "markdown",
      "metadata": {
        "id": "view-in-github",
        "colab_type": "text"
      },
      "source": [
        "<a href=\"https://colab.research.google.com/github/easyhardhoon/machine_learning/blob/master/ML16.ipynb\" target=\"_parent\"><img src=\"https://colab.research.google.com/assets/colab-badge.svg\" alt=\"Open In Colab\"/></a>"
      ]
    },
    {
      "cell_type": "markdown",
      "source": [
        "#합성곱 계층 구현"
      ],
      "metadata": {
        "id": "DYkPxjKP8Jl5"
      }
    },
    {
      "cell_type": "code",
      "execution_count": 3,
      "metadata": {
        "id": "MABIYLjw8F0T"
      },
      "outputs": [],
      "source": [
        "from util import im2col,col2im\n",
        "import numpy as np\n",
        "\n",
        "class Convolution: #합성곱 계층\n",
        "  def __init__(self,W,b,stride=1,pad=0): # W는 필터(가중치)를 의미합니다\n",
        "    self.W = W\n",
        "    self.b = b\n",
        "    self.stride = stride\n",
        "    self.pad = pad\n",
        "  def forward(self,x):\n",
        "    FN,C,FH,FW = self.W.shape #필터의 인자\n",
        "    N,C,H,W = x.shape #input의 인자\n",
        "    out_h = int(1+(H+2*self.pad-FH) / self.stride)\n",
        "    out_w = int(1+(W+2*self.pad-FW) / self.stride)\n",
        "\n",
        "    col = im2col(x,FH,FW,self.stride,self.pad) #im2col을 이용해 4차원->2차원\n",
        "    col_W = self.W.reshape(FN,-1).T #reshape(FN,-1)을 하면 W를 FN개의 인덱스로 전체 원소를 적절히 나눠줍니다\n",
        "    # ex) W의 원소 수 300개 일때 W.reshape(10,-1)을 하면 형상이 (10,30)인 배열로 만들어줌. 참고로 T는 전치행렬!\n",
        "    # 아무튼 추후의 행렬곱을 위해 2차원으로 reshape 해준 모습입니다.\n",
        "    out = np.dot(col,col_W) + self.b #이 줄이 핵심입니다. 합성곱도 행렬곱으로 나타낼 수 있다.\n",
        "    out = out.reshape(N,out_h,out_w,-1).transpose(0,3,1,2)\n",
        "    #numpy의 transpose함수. 축 순서를 바꿔줍니다.\n",
        "    #아무튼 최종 결과물을 다시 적절한 4차원 데이터로 바꿔주는 과정입니다.\n",
        "\n",
        "    def backward(self, dout):\n",
        "        FN, C, FH, FW = self.W.shape\n",
        "        dout = dout.transpose(0,2,3,1).reshape(-1, FN)\n",
        "\n",
        "        self.db = np.sum(dout, axis=0)\n",
        "        self.dW = np.dot(self.col.T, dout)\n",
        "        self.dW = self.dW.transpose(1, 0).reshape(FN, C, FH, FW)\n",
        "\n",
        "        dcol = np.dot(dout, self.col_W.T)\n",
        "        dx = col2im(dcol, self.x.shape, FH, FW, self.stride, self.pad)\n",
        "        return dx\n",
        "    #전체적인 흐름은 affine 계층의 역전파와 완전히 같습니다.\n",
        "    return out"
      ]
    },
    {
      "cell_type": "markdown",
      "source": [
        "# 위 코드의 핵심\n",
        "\n",
        "**im2col**덕분에, **합성곱 계층**도 완전연결 계층의 **Affine** 계층과 거의 똑같이 구현 할 수 있었다"
      ],
      "metadata": {
        "id": "uFhl67ZCCORc"
      }
    },
    {
      "cell_type": "markdown",
      "source": [
        "#풀링 계층 \n",
        "\n",
        "✈풀링 계층의 구현 알고리즘\n",
        "\n",
        "1. 입력 데이터를 전개한다\n",
        "\n",
        "    (2*2 칸에서 최댓값을 구하는게 전체 흐름이지만, 깊이 들어가보면\n",
        "\n",
        "    일단 각 2*2칸을 1*4칸, 즉 각각 독립된 행단위로 reshape을 먼저 해줍니다.)\n",
        "\n",
        "2. 행별 최댓값을 구한다\n",
        "\n",
        "    (최대 풀링으로 가정)\n",
        "\n",
        "3. 적절한 모양으로 성형한다 \n",
        "\n",
        "    (다시 수도쿠 모양으로 바꾸는 과정입니다)\n",
        "\n",
        "\n",
        "✈즉, **풀링을 위해서 우선 데이터의 적절한 변형이 이루어져야 합니다**"
      ],
      "metadata": {
        "id": "fImObP9pDuf3"
      }
    },
    {
      "cell_type": "code",
      "source": [
        "class Pooling:\n",
        "  def __init__(self,pool_h,pool_w,stride=1,pad=0): # 풀링에는 W, 즉 가중치의 개념이 없다. \n",
        "    self.pool_h = pool_h\n",
        "    self,pool_w = pool_w\n",
        "    self.stride = stride\n",
        "    self.pad = pad\n",
        "  def forward(self,x):\n",
        "    N,C,H,W = x.shape\n",
        "    out_h = int(1+(H-self.pool_h) / self.stride)\n",
        "    out_w = int(1+(W-self.pool_w) / self.stride)\n",
        "    #전개\n",
        "    col = im2col(x,self.pool_h, self.pool_w, self.stride, self.pad) #4차원을 2차원으로\n",
        "    col = col.reshape(-1,self.pool_h*self.pool_w) #다시 pooling을 위한 reshape\n",
        "    #최댓값 구하기\n",
        "    out = np.max(col,axis=1)\n",
        "    #성형\n",
        "    out = out.reshape(N,out_h,out_w,C).transpose(0,3,1,2)\n",
        "    return out\n",
        "\n",
        "  def backward(self, dout): #RELU의 흐름과 유사합니다. 순전파때 흐른것만 역전파때도 흐른다\n",
        "        dout = dout.transpose(0, 2, 3, 1)\n",
        "        \n",
        "        pool_size = self.pool_h * self.pool_w\n",
        "        dmax = np.zeros((dout.size, pool_size))\n",
        "        dmax[np.arange(self.arg_max.size), self.arg_max.flatten()] = dout.flatten()\n",
        "        dmax = dmax.reshape(dout.shape + (pool_size,)) \n",
        "        \n",
        "        dcol = dmax.reshape(dmax.shape[0] * dmax.shape[1] * dmax.shape[2], -1)\n",
        "        dx = col2im(dcol, self.x.shape, self.pool_h, self.pool_w, self.stride, self.pad)\n",
        "\n",
        "        return dx\n"
      ],
      "metadata": {
        "id": "wOogQM7i9Q1i"
      },
      "execution_count": 6,
      "outputs": []
    },
    {
      "cell_type": "markdown",
      "source": [
        "#CNN 구현\n",
        "\n",
        "이제 conv, pooling의 계층에 대해 공부했으니\n",
        "\n",
        "conv - RELU - pooling -> Affine - RELU -> Affine - Softmax 의 순으로 흐른다고 가정\n",
        "\n",
        "이를 simpleConvNet 이름의 클래스로 구현\n",
        "\n",
        "#아래는 지금까지의 전체 흐름이 담겨져 있는 코드입니다"
      ],
      "metadata": {
        "id": "y1DErKmQjhAp"
      }
    },
    {
      "cell_type": "code",
      "source": [
        "# coding: utf-8\n",
        "import sys, os\n",
        "sys.path.append(os.pardir)  # 부모 디렉터리의 파일을 가져올 수 있도록 설정\n",
        "import pickle\n",
        "import numpy as np\n",
        "from collections import OrderedDict\n",
        "from layers import *\n",
        "from gradient import numerical_gradient\n",
        "\n",
        "\n",
        "class SimpleConvNet:\n",
        "    \"\"\"단순한 합성곱 신경망\n",
        "    \n",
        "    conv - relu - pool - affine - relu - affine - softmax\n",
        "    \n",
        "    Parameters\n",
        "    ----------\n",
        "    input_size : 입력 크기（MNIST의 경우엔 784）\n",
        "    hidden_size_list : 각 은닉층의 뉴런 수를 담은 리스트（e.g. [100, 100, 100]）\n",
        "    output_size : 출력 크기（MNIST의 경우엔 10）\n",
        "    activation : 활성화 함수 - 'relu' 혹은 'sigmoid'\n",
        "    weight_init_std : 가중치의 표준편차 지정（e.g. 0.01）\n",
        "        'relu'나 'he'로 지정하면 'He 초깃값'으로 설정\n",
        "        'sigmoid'나 'xavier'로 지정하면 'Xavier 초깃값'으로 설정\n",
        "    \"\"\"\n",
        "    def __init__(self, input_dim=(1, 28, 28), \n",
        "                 conv_param={'filter_num':30, 'filter_size':5, 'pad':0, 'stride':1},\n",
        "                 hidden_size=100, output_size=10, weight_init_std=0.01):\n",
        "        filter_num = conv_param['filter_num']\n",
        "        filter_size = conv_param['filter_size']\n",
        "        filter_pad = conv_param['pad']\n",
        "        filter_stride = conv_param['stride']\n",
        "        input_size = input_dim[1]\n",
        "        conv_output_size = (input_size - filter_size + 2*filter_pad) / filter_stride + 1\n",
        "        pool_output_size = int(filter_num * (conv_output_size/2) * (conv_output_size/2))\n",
        "\n",
        "        # 가중치 초기화\n",
        "        self.params = {}\n",
        "        self.params['W1'] = weight_init_std * \\\n",
        "                            np.random.randn(filter_num, input_dim[0], filter_size, filter_size)\n",
        "        self.params['b1'] = np.zeros(filter_num)\n",
        "        self.params['W2'] = weight_init_std * \\\n",
        "                            np.random.randn(pool_output_size, hidden_size)\n",
        "        self.params['b2'] = np.zeros(hidden_size)\n",
        "        self.params['W3'] = weight_init_std * \\\n",
        "                            np.random.randn(hidden_size, output_size)\n",
        "        self.params['b3'] = np.zeros(output_size)\n",
        "\n",
        "        # 계층 생성\n",
        "        self.layers = OrderedDict()\n",
        "        self.layers['Conv1'] = Convolution(self.params['W1'], self.params['b1'],\n",
        "                                           conv_param['stride'], conv_param['pad'])\n",
        "        self.layers['Relu1'] = Relu()\n",
        "        self.layers['Pool1'] = Pooling(pool_h=2, pool_w=2, stride=2)\n",
        "        self.layers['Affine1'] = Affine(self.params['W2'], self.params['b2'])\n",
        "        self.layers['Relu2'] = Relu()\n",
        "        self.layers['Affine2'] = Affine(self.params['W3'], self.params['b3'])\n",
        "\n",
        "        self.last_layer = SoftmaxWithLoss()\n",
        "\n",
        "    def predict(self, x):\n",
        "        for layer in self.layers.values():\n",
        "            x = layer.forward(x)\n",
        "\n",
        "        return x\n",
        "\n",
        "    def loss(self, x, t):\n",
        "        \"\"\"손실 함수를 구한다.\n",
        "\n",
        "        Parameters\n",
        "        ----------\n",
        "        x : 입력 데이터\n",
        "        t : 정답 레이블\n",
        "        \"\"\"\n",
        "        y = self.predict(x)\n",
        "        return self.last_layer.forward(y, t)\n",
        "\n",
        "    def accuracy(self, x, t, batch_size=100):\n",
        "        if t.ndim != 1 : t = np.argmax(t, axis=1)\n",
        "        \n",
        "        acc = 0.0\n",
        "        \n",
        "        for i in range(int(x.shape[0] / batch_size)):\n",
        "            tx = x[i*batch_size:(i+1)*batch_size]\n",
        "            tt = t[i*batch_size:(i+1)*batch_size]\n",
        "            y = self.predict(tx)\n",
        "            y = np.argmax(y, axis=1)\n",
        "            acc += np.sum(y == tt) \n",
        "        \n",
        "        return acc / x.shape[0]\n",
        "\n",
        "    def numerical_gradient(self, x, t):\n",
        "        \"\"\"기울기를 구한다（수치미분）.\n",
        "\n",
        "        Parameters\n",
        "        ----------\n",
        "        x : 입력 데이터\n",
        "        t : 정답 레이블\n",
        "\n",
        "        Returns\n",
        "        -------\n",
        "        각 층의 기울기를 담은 사전(dictionary) 변수\n",
        "            grads['W1']、grads['W2']、... 각 층의 가중치\n",
        "            grads['b1']、grads['b2']、... 각 층의 편향\n",
        "        \"\"\"\n",
        "        loss_w = lambda w: self.loss(x, t)\n",
        "\n",
        "        grads = {}\n",
        "        for idx in (1, 2, 3):\n",
        "            grads['W' + str(idx)] = numerical_gradient(loss_w, self.params['W' + str(idx)])\n",
        "            grads['b' + str(idx)] = numerical_gradient(loss_w, self.params['b' + str(idx)])\n",
        "\n",
        "        return grads\n",
        "\n",
        "    def gradient(self, x, t):\n",
        "        \"\"\"기울기를 구한다(오차역전파법).\n",
        "\n",
        "        Parameters\n",
        "        ----------\n",
        "        x : 입력 데이터\n",
        "        t : 정답 레이블\n",
        "\n",
        "        Returns\n",
        "        -------\n",
        "        각 층의 기울기를 담은 사전(dictionary) 변수\n",
        "            grads['W1']、grads['W2']、... 각 층의 가중치\n",
        "            grads['b1']、grads['b2']、... 각 층의 편향\n",
        "        \"\"\"\n",
        "        # forward\n",
        "        self.loss(x, t)\n",
        "\n",
        "        # backward\n",
        "        dout = 1\n",
        "        dout = self.last_layer.backward(dout)\n",
        "\n",
        "        layers = list(self.layers.values())\n",
        "        layers.reverse()\n",
        "        for layer in layers:\n",
        "            dout = layer.backward(dout)\n",
        "\n",
        "        # 결과 저장\n",
        "        grads = {}\n",
        "        grads['W1'], grads['b1'] = self.layers['Conv1'].dW, self.layers['Conv1'].db\n",
        "        grads['W2'], grads['b2'] = self.layers['Affine1'].dW, self.layers['Affine1'].db\n",
        "        grads['W3'], grads['b3'] = self.layers['Affine2'].dW, self.layers['Affine2'].db\n",
        "\n",
        "        return grads\n",
        "        \n",
        "    def save_params(self, file_name=\"params.pkl\"):\n",
        "        params = {}\n",
        "        for key, val in self.params.items():\n",
        "            params[key] = val\n",
        "        with open(file_name, 'wb') as f:\n",
        "            pickle.dump(params, f)\n",
        "\n",
        "    def load_params(self, file_name=\"params.pkl\"):\n",
        "        with open(file_name, 'rb') as f:\n",
        "            params = pickle.load(f)\n",
        "        for key, val in params.items():\n",
        "            self.params[key] = val\n",
        "\n",
        "        for i, key in enumerate(['Conv1', 'Affine1', 'Affine2']):\n",
        "            self.layers[key].W = self.params['W' + str(i+1)]\n",
        "            self.layers[key].b = self.params['b' + str(i+1)]\n"
      ],
      "metadata": {
        "id": "sfvMVmCeHUiY"
      },
      "execution_count": 17,
      "outputs": []
    },
    {
      "cell_type": "markdown",
      "source": [
        "# 위 코드에서\n",
        "\n",
        "CNN 계층도 Affine 계층처럼 가중치 파라미터를 입력 받아 순전파와 역전파를 구해주는, \"계층\"의 역할을 하게 하였다.\n",
        "\n",
        "\n",
        "pooling 계층은 가중치 파라미터가 필요없는 계층임을 알 수 있다.\n",
        "\n",
        "아무튼, 이렇게 simpleConvNet 클래스의 인자로 받은 파라미터들과 입력값으로, \n",
        "\n",
        "각 계층을 돌며 순전파와 역전파를 구하고, gradient(오차역전파법)으로 기울기 값을 구한뒤 \n",
        "\n",
        "각 iter반복마다 기울기와 loss를 최신화 하며 가중치 매개변수의 최적값을 구하는 알고리즘이다\n",
        "\n",
        "#MNIST 데이터셋(이미지 데이터) 학습\n",
        "\n",
        "이렇게 CNN계층+pooling계층이 있는 net클래스는, 앞서 말했듯 3차원 데이터( ex 이미지 데이터)의 인식에 아주 용이하다.\n",
        "\n",
        "이렇게 공간적인 형상에 담긴 특징을 CNN이 잘 파악하여  MNIST데이터에 대한 학습 정확도를 98프로 까지 높일 수 있었다."
      ],
      "metadata": {
        "id": "E-Cgw1v-oGwp"
      }
    },
    {
      "cell_type": "markdown",
      "source": [
        "#CNN 시각화"
      ],
      "metadata": {
        "id": "bGB6j02a2sqW"
      }
    },
    {
      "cell_type": "code",
      "source": [
        "# coding: utf-8\n",
        "import numpy as np\n",
        "import matplotlib.pyplot as plt\n",
        "#from simple_convnet import SimpleConvNet\n",
        "\n",
        "def filter_show(filters, nx=8, margin=3, scale=10):\n",
        "    \"\"\"\n",
        "    c.f. https://gist.github.com/aidiary/07d530d5e08011832b12#file-draw_weight-py\n",
        "    \"\"\"\n",
        "    FN, C, FH, FW = filters.shape\n",
        "    ny = int(np.ceil(FN / nx))\n",
        "\n",
        "    fig = plt.figure()\n",
        "    fig.subplots_adjust(left=0, right=1, bottom=0, top=1, hspace=0.05, wspace=0.05)\n",
        "\n",
        "    for i in range(FN):\n",
        "        ax = fig.add_subplot(ny, nx, i+1, xticks=[], yticks=[])\n",
        "        ax.imshow(filters[i, 0], cmap=plt.cm.gray_r, interpolation='nearest')\n",
        "    plt.show()\n",
        "\n",
        "\n",
        "network = SimpleConvNet()\n",
        "print(\"학습전\\n\")\n",
        "# 무작위(랜덤) 초기화 후의 가중치\n",
        "filter_show(network.params['W1'])\n",
        "\n",
        "print(\"학습후\\n\")\n",
        "# 학습된 가중치\n",
        "network.load_params(\"params.pkl\")\n",
        "filter_show(network.params['W1'])\n"
      ],
      "metadata": {
        "colab": {
          "base_uri": "https://localhost:8080/",
          "height": 666
        },
        "id": "rod2fZnVmNWY",
        "outputId": "684529e8-82bc-4011-f338-12fa3b8078f2"
      },
      "execution_count": 21,
      "outputs": [
        {
          "output_type": "stream",
          "name": "stdout",
          "text": [
            "학습전\n",
            "\n"
          ]
        },
        {
          "output_type": "display_data",
          "data": {
            "image/png": "[encoded data removed]",
            "text/plain": [
              "<Figure size 432x288 with 30 Axes>"
            ]
          },
          "metadata": {}
        },
        {
          "output_type": "stream",
          "name": "stdout",
          "text": [
            "학습후\n",
            "\n"
          ]
        },
        {
          "output_type": "display_data",
          "data": {
            "image/png": "[encoded data removed]",
            "text/plain": [
              "<Figure size 432x288 with 30 Axes>"
            ]
          },
          "metadata": {}
        }
      ]
    },
    {
      "cell_type": "markdown",
      "source": [
        "#위 사진에서\n",
        "\n",
        "위의 CNN 계층에서, CNN계층의 인자로 들어온 w가중치는 \n",
        "\n",
        "(30,1,5,5)의 4차원이었다. \n",
        "\n",
        "즉, 5^5크기의 채널 1개로 이루어진 필터가 30개라는 소리이다.\n",
        "\n",
        "이를 이미지로 시각화한것이다.(실제로 사진의 갯수는 30개)\n",
        "\n",
        "\n",
        "**이미지에서는 가장 작은 값(0)은 검은색, 가장 큰 값(255은 흰색으로 정규화한다.**\n",
        "\n",
        "아래 사진이 의미하는 바는,\n",
        "\n",
        "학습 전 필터(일종의 가중치)는 무작위로 초기화되어 흑백의 정도에 규칙성이 없다\n",
        "\n",
        "학습 후 필터는 규칙성 있는 이미지가 된다. ex) 흑백 경계선, 덩어리 등등\n",
        "\n",
        "#필터가 보고 있는 것(주시하고 있는 것)은 무엇일까??\n",
        "\n",
        "바로 위에서 말한 경계선(edge)와 덩어리(blob)이다.\n",
        "\n",
        "**즉, 경계선과 덩어리를 중심으로 값을 최적화하는 과정이다.**\n",
        "\n",
        "ex) 세로로 경계선이 있는 필터를 적용시키면 출력 이미지의 \"세로\" 에지가 반응한다\n",
        "\n",
        "이 과정에서 규칙이 없는 데이터가 규칙이 있는 형태로 바뀐다.\n",
        "\n",
        "이는, 매개변수의 최적화 과정을 시각화 한 것이라고 볼 수 있다.\n",
        "\n",
        "#이처럼\n",
        "\n",
        "합성곱 계층(CNN)의 필터는 에지나 블롭 등의 원시적인 정보를 추출할 수 있다.\n",
        "\n",
        "이러한 원시적인 정보가 다음 계층에 전달되는 원리이다"
      ],
      "metadata": {
        "id": "Jwr6ilSs2BVz"
      }
    },
    {
      "cell_type": "markdown",
      "source": [
        "#simpleConvNet은 말그대로 \"simple\"한 Net에 불과하다\n",
        "\n",
        "simpleconvnet에서, 단순히 합성곱 계층은 1개만 사용했었다.\n",
        "\n",
        "위의 시각화에서도, 마찬가지로 합성곱 계층이 1개만 있는 신경망을 다루었다.\n",
        "\n",
        "즉, 합성곱 계층 1개만으로 이루어져 있을때는 에지나 블롭 같은 저수준 정보가 추출된다. (이미지 데이터에서)\n",
        "\n",
        "✈**하지만, 이러한 CNN을 겹겹이 쌓는다면??** 각 CNN계층에서 어떠한 정보가 추출될까\n",
        "\n",
        "ex) 일반 사물인식을 수행한 8층의 CNN ( AlexNet 신경망이라고 불립니다)\n",
        "\n",
        "1번째 층은 에지와 블롭, 3번째 층은 텍스쳐, 5번째 층은 사물의 일부,\n",
        "\n",
        "마지막 완전연결 계층(Affine)은 사물의 클래스(전체).......... 식이다\n",
        "\n",
        "#정리하면\n",
        "\n",
        "최초의 CNN에서는 원시 데이터(아무 규칙이 없는)에서 에지와 블롭을 추출하여 1차로 데이터를 가공하고\n",
        "\n",
        "그다음 CNN이 겹겹이 이어지면 점점 더 데이터가 가공되어 실제 형태처럼 진화해나간다\n",
        "\n",
        "이렇게 CNN을 여러겹 쌓으면, 층이 깊어지면서 더 복잡하고 추상화된 **고급** 정보가 추출된다.\n",
        "\n",
        "다시 말하면, 사물의 의미를 이해하도록 변화한다. 이게 딥러닝의 목표이다."
      ],
      "metadata": {
        "id": "-C5m6wlQA5iB"
      }
    },
    {
      "cell_type": "markdown",
      "source": [
        "#대표적인 CNN \n",
        "\n",
        "✈1. LeNet\n",
        "\n",
        "손글씨 숫자를 인식하는 네트워크.\n",
        "\n",
        "**CNN - (활성화함수) - Pooling 계층의 반복, 마지막은 완전연결 계층**\n",
        "\n",
        "현재의 CNN(위에서 배운)과 비교하면, 활성화함수로 RELU가 아닌 sigmoid를 사용한것, \n",
        "\n",
        "풀링을 최대 풀링이 아닌 서브샘플링(단순히 데이터 크기 줄이기)을 한 것이 있지만\n",
        "\n",
        "거의 동일하다! 이 네트워크는 1998년,,,에 제안되었다\n",
        "\n",
        "✈2. AlexNet\n",
        "\n",
        "LeNet과 유사.\n",
        "\n",
        "**CNN - (활성화 함수) - Pooling 계층의 반복, 마지막은 완전연결 계층** \n",
        "\n",
        "다만\n",
        "\n",
        "활성화 함수로 RELU를 쓰고\n",
        "\n",
        "LRN이라는 국소적 정규화를 실시하는 계층 사용(진짜 겹겹이 쌓이는 느낌 구현)\n",
        "\n",
        "드롭아웃을 사용\n",
        "\n",
        "등 의 특징이 있다\n",
        "\n",
        "\n",
        "\n"
      ],
      "metadata": {
        "id": "91GY9ZgMFHlP"
      }
    },
    {
      "cell_type": "markdown",
      "source": [
        "# 사실\n",
        "\n",
        "LeNet과 AlexNet의 큰 차이는 없다.\n",
        "\n",
        "이렇게 여러 네트워크가 개발이 되었지만, 사실 딥러닝의 발전을 이끈 것은\n",
        "\n",
        "다름 아닌 빅데이터와 GPU 기술 덕분이다. \n",
        "\n",
        "**빅데이터** : 대량의 데이터를 누구나 얻을 수 있다. \n",
        "\n",
        "-> 매개변수 fitting을 위한 방대한 시험/훈련 데이터를 쉽게 얻을 수 있다.\n",
        "\n",
        "**GPU** : 병렬 계산에 특화되어 대량의 연산을 고속으로 수행 할 수 있다.\n",
        "\n",
        "-> 딥러닝의 방대한 매개변수의 학습을 위한 연산과정을 빠르게 할 수 있다."
      ],
      "metadata": {
        "id": "NnzhxZoZI4QM"
      }
    },
    {
      "cell_type": "code",
      "source": [
        ""
      ],
      "metadata": {
        "id": "SAT6GWr30Opj"
      },
      "execution_count": null,
      "outputs": []
    }
  ]
}