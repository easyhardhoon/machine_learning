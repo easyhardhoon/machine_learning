{
  "nbformat": 4,
  "nbformat_minor": 0,
  "metadata": {
    "colab": {
      "name": "ML_RE5.ipynb",
      "provenance": [],
      "collapsed_sections": [],
      "authorship_tag": "ABX9TyNDpgBlApVFwZwYEmCCNE8T",
      "include_colab_link": true
    },
    "kernelspec": {
      "name": "python3",
      "display_name": "Python 3"
    },
    "language_info": {
      "name": "python"
    }
  },
  "cells": [
    {
      "cell_type": "markdown",
      "metadata": {
        "id": "view-in-github",
        "colab_type": "text"
      },
      "source": [
        "<a href=\"https://colab.research.google.com/github/easyhardhoon/machine_learning_basic/blob/master/ML_RE5.ipynb\" target=\"_parent\"><img src=\"https://colab.research.google.com/assets/colab-badge.svg\" alt=\"Open In Colab\"/></a>"
      ]
    },
    {
      "cell_type": "markdown",
      "source": [
        "✅ML10~ML11"
      ],
      "metadata": {
        "id": "yXurODSuuXBP"
      }
    },
    {
      "cell_type": "markdown",
      "source": [
        "**1. 배치 vs 입력데이터 1개 최종 정리**\n",
        "\n",
        "<CNN을 사용하지 않는  Net 기준입니다>\n",
        "\n",
        "load_mnist에서, x_train을 default로 flatten = True로 전처리후 데이터를 받아옵니다."
      ],
      "metadata": {
        "id": "XFxBkJ69u9C-"
      }
    },
    {
      "cell_type": "code",
      "execution_count": null,
      "metadata": {
        "id": "8XDM4rHbuQoF"
      },
      "outputs": [],
      "source": [
        "import numpy as np\n",
        "from mnist import load_mnist\n",
        "(x_train,t_train),(x_test,t_test) = load_mnist(normalize=True, one_hot_label=True)"
      ]
    },
    {
      "cell_type": "code",
      "source": [
        "x_train.shape\n",
        "#default로 flatten = true 되는 모습. "
      ],
      "metadata": {
        "colab": {
          "base_uri": "https://localhost:8080/"
        },
        "id": "WMLF4bEJvk2v",
        "outputId": "502eb91f-35bb-4453-998b-528ef3cab2e6"
      },
      "execution_count": null,
      "outputs": [
        {
          "output_type": "execute_result",
          "data": {
            "text/plain": [
              "(60000, 784)"
            ]
          },
          "metadata": {},
          "execution_count": 3
        }
      ]
    },
    {
      "cell_type": "markdown",
      "source": [
        "즉, 2차원 데이터의 x_train의 \n",
        "\n",
        "y축은 데이터축(데이터 60,000개),\n",
        "\n",
        "x축은 각 데이터의 정보축(채널[1], input_y[28], input_x[28]이 flatten )입니다.\n",
        "\n",
        "---\n",
        "\n",
        "입력 데이터가 1개이면 자연스레 1차원 배열(784,)이 하나하나 input으로 Net에 들어가지만\n",
        "\n",
        "배치형태라면(ex 5개씩 (5,784)), 1차원 배열 5개, 즉 2차원 배열이 input으로 Net에 들어간다.\n",
        "\n",
        "---\n",
        "\n",
        "만약 flatten = false라면 3차원, 4차원 데이터이기 때문에, CNN신경망이 필요할것 같다."
      ],
      "metadata": {
        "id": "H0p84yELv4Wk"
      }
    },
    {
      "cell_type": "markdown",
      "source": [
        "**2. softmax-with-loss 계층**\n",
        "\n",
        "softmax 활성화 함수 + loss 함수(cross_entropy_error)로 이루어진 계층\n",
        "\n",
        "(softmax 계층은 보통 맨 마지막 출력층의  활성화함수에 사용합니다.)\n",
        "\n",
        "이 계층의 역전파는 **출력값과 정답 레이블의 오차**이다.\n",
        "\n",
        "사실 이렇게 나오도록 그동안의 활성화함수와 손실함수를 설계했다.\n",
        "\n",
        "⭕신경망 학습의 목적 : **신경망의 출력이 정답 레이블과 가까워지도록 가중치 매개변수의 값을 조정하는 것**\n",
        "\n",
        "---\n",
        "\n",
        "만약 정답 레이블이 (0,1,0) 이고 softmaxwithloss계층이 (0.3, 0.2, 0.5)를 출력했다면\n",
        "\n",
        "(모델의 최종 예측값과 같은 말이다. 순전파)\n",
        "\n",
        "softmaxwithloss계층의 역전파는 (0.3, -0.8, 0.5)라는 커다란 **오차를 전파.** \n",
        "\n",
        "결과적으로 softmax계층의 앞 계층들은 그 \"큰\" 오차로부터 \"큰\" 깨달음을 얻게 된다\n",
        "\n",
        "⭕ **이 값을 기준으로 layers의 역전파 전파시작**\n",
        "\n",
        "⭕**이 오차를 기준으로 parameter 기울기를 구하고 update하여 오차를 줄여나간다**\n",
        "\n",
        "**numerical_gradient는 loss함수에 대한 parameter 기울기**\n",
        "\n",
        "**gradient는 오차에 대한 parameter 기울기**\n",
        "\n",
        "⭕**두 경우 모두, parameter 최적화를 통한 오차 줄이기 논리**\n"
      ],
      "metadata": {
        "id": "-KZPukFSzZvw"
      }
    },
    {
      "cell_type": "code",
      "source": [
        "class SoftmaxWithLoss:\n",
        "  def __init__(self):\n",
        "    self.loss = None\n",
        "    self.y  = None\n",
        "    self.t = None\n",
        "  def forward(self,x,t):\n",
        "    self.t = t\n",
        "    self.y = softmax(x)\n",
        "    self.loss = cross_entropy_error(self.y, self.t)\n",
        "    return self.loss\n",
        "  def backward(self, dout=1):\n",
        "    batch_size = self.t.shape[0]\n",
        "    dx = (self.y - self.t) / batch_size #\n",
        "    return dx"
      ],
      "metadata": {
        "id": "fXmkXxWxyvw-"
      },
      "execution_count": null,
      "outputs": []
    },
    {
      "cell_type": "markdown",
      "source": [
        "위 코드에서 dx = (self.y - self.t) / batch_size 해주는 이유\n",
        "\n",
        "batch는, N개의 데이터를 한꺼번에 검사하는 개념이기 때문이다."
      ],
      "metadata": {
        "id": "U49M5uWH9OFg"
      }
    },
    {
      "cell_type": "markdown",
      "source": [
        "**3. axis에 대하여**"
      ],
      "metadata": {
        "id": "ZDWLqFONQIQr"
      }
    },
    {
      "cell_type": "code",
      "source": [
        "import numpy as np\n",
        "#argmax(axis=0)\n",
        "a = np.array([[1,2,3],[4,5,6]])\n",
        "a1 = a.argmax(axis=0) #0번째 축인 데이터를 기준으로 큰 값의 인덱스를 리턴\n",
        "print(a1) # ex) 1보다 4가 크니까 4의 인덱스인 \"1\"\n",
        "a2 = a.argmax(axis=1) #1번쨰 축인 값을 기준으로 큰 값의 인덱스를 리턴. \n",
        "print(a2) # ex) 3이 1,2 보다 크니까 3의 인덱스인 \"2\"\n",
        "#sum과 함께\n",
        "dY = np.array([[1,2,3],[4,5,6]])\n",
        "dB = np.sum(dY,axis=0) # 0번쨰 축인 데이터를 기준. 데이터끼리 더한다.\n",
        "print(dB)\n",
        "db = np.sum(dY,axis=1) # 1번쨰 축인 값 기준. 각 데이터 내부의 값 끼리 더한다.\n",
        "print(db)\n",
        "# 기본적으로 argmax든 sum이든 1차원 배열 형태를 리턴합니다."
      ],
      "metadata": {
        "colab": {
          "base_uri": "https://localhost:8080/"
        },
        "id": "2PAhns1qvoQ3",
        "outputId": "d2f70178-dd6a-411f-d669-928a4258c164"
      },
      "execution_count": null,
      "outputs": [
        {
          "output_type": "stream",
          "name": "stdout",
          "text": [
            "[1 1 1]\n",
            "[2 2]\n",
            "[5 7 9]\n",
            "[ 6 15]\n"
          ]
        }
      ]
    },
    {
      "cell_type": "code",
      "source": [
        "def cross_entropy_error(y, t):\n",
        "    if y.ndim == 1: #(24,) 이면 (1,24)로. 배치형식으로 맞춘다.\n",
        "        t = t.reshape(1, t.size)\n",
        "        y = y.reshape(1, y.size)\n",
        "        \n",
        "    # 훈련 데이터가 원-핫 벡터라면 정답 레이블의 인덱스로 반환. \n",
        "    # 원핫인코딩 false 일때처럼 1차원 배열 형식으로 맞춘다.\n",
        "    if t.size == y.size:\n",
        "        t = t.argmax(axis=1)\n",
        "\n",
        "    batch_size = y.shape[0]\n",
        "    return -np.sum(np.log(y[np.arange(batch_size), t])) / batch_size\n",
        "# 위 코드로, 원핫인 코딩이 되어있는 정답 레이블을 1차원 배열로 바꾸어\n",
        "# (원핫인코딩 false 일때의 논리로 들어간다)\n",
        "# 원핫인코드 여부와 관계없이 통일된 loss함수를 만들수 있었다."
      ],
      "metadata": {
        "id": "IT20wozPlekl"
      },
      "execution_count": null,
      "outputs": []
    },
    {
      "cell_type": "markdown",
      "source": [
        "위 코드에서 볼 수 있듯,\n",
        "\n",
        "⭕**원핫인코딩 & 배치 여부가 모두 통합된 통일된 코드가 완성된다. 앞으로의 코드는 모두 이러한 통일된 코드이다**\n",
        "\n",
        "앞서 load_mnist에서 default로 one_hot_label 가 false 였는데, 그 이유를 알 수 있다.\n",
        "\n",
        "false를 기준으로 코드가 맞추어져 있다."
      ],
      "metadata": {
        "id": "rqHOoujanYmt"
      }
    },
    {
      "cell_type": "markdown",
      "source": [
        "**4.지금까지의 코드 복습**\n",
        "\n",
        "기본적으로, Affine, Relu, softmax, cross_entropy_error 등의 코드에서\n",
        "\n",
        "배치 여부, 원핫인코딩 여부를 모두 고려해 통합하였습니다. (앞의 논리가 맞음!!)\n",
        "\n",
        "자세한 코드는 ML10에 나와있습니다.\n",
        "\n",
        "아래는 역전파법을 사용한 학습 구현입니다"
      ],
      "metadata": {
        "id": "uE3VcMp0QGps"
      }
    },
    {
      "cell_type": "code",
      "source": [
        "import sys, os\n",
        "sys.path.append(os.pardir)\n",
        "import numpy as np\n",
        "from gradient import numerical_gradient\n",
        "from collections import OrderedDict\n",
        "\n",
        "class TwoLayerNet:\n",
        "  def __init__(self, input_size, hidden_size, output_size, weight_init_std=0.01):\n",
        "    self.params = {}\n",
        "    self.params['W1'] = weight_init_std * np.random.randn(input_size,hidden_size)\n",
        "    self.params['b1'] = np.zeros(hidden_size)\n",
        "    self.params['W2'] = weight_init_std * np.random.randn(hidden_size,output_size)\n",
        "    self.params['b2'] = np.zeros(output_size)\n",
        "\n",
        "    self.layers = OrderedDict() \n",
        "    self.layers['Affine1'] = Affine(self.params['W1'], self.params['b1']) \n",
        "    self.layers['Relu1'] = Relu()\n",
        "    self.layers['Affine2'] = Affine(self.params['W2'], self.params['b2'])\n",
        "    self.lastLayer = SoftmaxWIthLoss() \n",
        "\n",
        "  def predict(self,x):\n",
        "    for layer in self.layers.values():\n",
        "      x = layer.forward(x) \n",
        "    return x\n",
        "  def loss(self,x,t):\n",
        "    y = self.predict(x)\n",
        "    return self.lastLayer.forward(y,t) \n",
        "  def accuracy(self,x,t):\n",
        "    y = self.predict(x)\n",
        "    y = np.argmax(y,axis=1)\n",
        "    if t.ndim != 1:\n",
        "      t = np.argmax(t,axis=1) \n",
        "    accuracy = np.sum(y==t)/float(x.shape[0])\n",
        "    return accuracy\n",
        "\n",
        "  def numerical_gradient(self,x,t):\n",
        "    loss_W = lambda W: self.loss(x,t)\n",
        "    grads = {}\n",
        "    grads['W1'] = numerical_gradient(loss_W, self.params['W1'])\n",
        "    grads['b1'] = numerical_gradient(loss_W, self.params['b1'])\n",
        "    grads['W2'] = numerical_gradient(loss_W, self.params['W2'])\n",
        "    grads['b2'] = numerical_gradient(loss_W, self.params['b2'])\n",
        "    return grads\n",
        "\n",
        "  def gradient(self,x,t):\n",
        "    self.loss(x,t)\n",
        "    dout = 1\n",
        "    dout = self.lastLayer.backward(dout) \n",
        "    layers = list(self.layers.values()) \n",
        "    layers.reverse() \n",
        "\n",
        "    for layer in layers:\n",
        "      dout = layer.backward(dout) \n",
        "    grads = {} \n",
        "    grads['W1'] = self.layers['Affine1'].dW \n",
        "    grads['b1'] = self.layers['Affine1'].db\n",
        "    grads['W2'] = self.layers['Affine2'].dW\n",
        "    grads['b2'] = self.layers['Affine2'].db\n",
        "    return grads"
      ],
      "metadata": {
        "id": "3xf4q31BPim8"
      },
      "execution_count": null,
      "outputs": []
    },
    {
      "cell_type": "code",
      "source": [
        "import sys, os\n",
        "sys.path.append(os.pardir)\n",
        "import numpy as np\n",
        "from mnist import load_mnist\n",
        "\n",
        "(x_train,t_train),(x_test,t_test) = load_mnist(normalize=True, one_hot_label=True)\n",
        "network = TwoLayerNet(input_size= 784, hidden_size = 50, output_size=10)\n",
        "\n",
        "iters_num = 10000\n",
        "train_size = x_train.shape[0]\n",
        "batch_size = 100\n",
        "learning_rate = 0.1\n",
        "\n",
        "train_loss_list= []\n",
        "train_acc_list = []\n",
        "test_acc_list = []\n",
        "\n",
        "iter_per_epoch = max(train_size/batch_size,1)\n",
        "\n",
        "for i in range(iters_num):\n",
        "  batch_mask = np.random.choice(train_size,batch_size)\n",
        "  x_batch = x_train[batch_mask]\n",
        "  t_batch = t_train[batch_mask]\n",
        "  \n",
        "  grad = network.gradient(x_batch,t_batch) \n",
        "  \n",
        "  for key in ('W1','b1','W2','b2'):\n",
        "    network.params[key] -= learning_rate * grad[key] \n",
        "  loss = network.loss(x_batch, t_batch) \n",
        "  train_loss_list.append(loss)\n",
        "\n",
        "  if i%iter_per_epoch == 0: \n",
        "    train_acc = network.accuracy(x_train,t_train)\n",
        "    test_acc = network.accuracy(x_test,t_test)\n",
        "    train_acc_list.append(train_acc)\n",
        "    test_acc_list.append(test_acc)\n",
        "    print(train_acc,test_acc)"
      ],
      "metadata": {
        "id": "-0I8xvTX15qN"
      },
      "execution_count": null,
      "outputs": []
    },
    {
      "cell_type": "markdown",
      "source": [
        "위 코드에서\n",
        "\n",
        "▶numerical_gradient\n",
        "\n",
        "\n",
        "    실제론 numerical_gradient는 매우 느리기 때문에 gradient를 사용한다.\n",
        "\n",
        "    numerical_gradient(수치 미분)은 오차역전파법이 정확히 구현되었는지 확인할때 쓰인다.\n",
        "\n",
        "    (기울기 확인 작업)\n",
        "\n",
        "\n",
        "▶accuracy\n",
        "\n",
        "    데이터별 최대 값의 인덱스만 끌어모아 1차원 배열 하나 생성. 마찬가지로 batch를 위한 코드라고 볼 수 있다.\n",
        "    (배치이든 아니든 1차원 배열로 만들어지기 때문)\n",
        "    (배치 여부를 고려한 통합코드)\n",
        "\n",
        "    또한 원핫인코딩=true인 정답 레이블이 들어온다면 false 상태로 만든다\n",
        "    (원핫인코딩 여부를 고려한 통합코드)\n",
        "\n",
        "    최종적으로 출력데이터 & 정답레이블을 둘 다 1차원 배열로 만들어 간편하게 인덱스 비교를 통해 정확도를 산출한다.\n",
        "\n",
        "    또한 accuracy산출할때,\n",
        "    출력데이터의 최대 인덱스만 필요하기 때문에 softmax 함수는 굳이 적용안시킨 모습입니다.\n",
        "    (softmax는 단조증가함수)\n",
        "\n",
        "▶gradient\n",
        "\n",
        "\n",
        "    이제는 softmax-with-loss 계층을 사용하기 때문에,\n",
        "    gradient든 numerical_gradient든 loss까지 forward시키고, 편미분을하든 backward를 하든한다.\n",
        "\n",
        "    즉, 추후의 loss.backward()코드가 적용되도록 기초코드가 완성되었다.\n",
        "  "
      ],
      "metadata": {
        "id": "IXiKGsun27bD"
      }
    },
    {
      "cell_type": "markdown",
      "source": [
        "**5. optimizer**\n",
        "\n",
        "역전파를 통해 매개변수의 기울기를 구하면, 이 기울기 정보를 토대로 어떻게 parameter를 갱신할지를 다룬다 "
      ],
      "metadata": {
        "id": "5HWm83Va5Eqs"
      }
    },
    {
      "cell_type": "markdown",
      "source": [
        "⚾SGD\n",
        "\n",
        "단순히 기울어진 방향으로 일정 거리만 가겠다\n",
        "\n",
        "방향에 따라 수시로 기울기가 달라지는 함수의 경우, SGD방식은 비효율적이다"
      ],
      "metadata": {
        "id": "qpRSZ2YuhkaO"
      }
    },
    {
      "cell_type": "code",
      "source": [
        "class SGD:\n",
        "  def __init__(self,lr=0.01):\n",
        "    self.lr = lr \n",
        "  def update(self,params,grads):\n",
        "    for key in params.keys():\n",
        "      params[key] -= self.lr * grads[key]"
      ],
      "metadata": {
        "id": "24Hn5QYB3Gw-"
      },
      "execution_count": null,
      "outputs": []
    },
    {
      "cell_type": "markdown",
      "source": [
        "⚾Momentum\n",
        "\n",
        "기울어진 방향으로 물체가 가속된다\n",
        "\n",
        "SGD + 물리법칙(속도)\n",
        "\n",
        "**학습률은 고정되어있다는 점에 주목**"
      ],
      "metadata": {
        "id": "2Fk6bcr5ii4k"
      }
    },
    {
      "cell_type": "code",
      "source": [
        "class Momentum:\n",
        "  def __init__(self,lr=0.01,momentum=0.9):\n",
        "    self.lr = lr\n",
        "    self.momentum = momentum\n",
        "    self.v = None\n",
        "  def update(self,params,grads):\n",
        "    if self.v is None:\n",
        "      self.v = {}\n",
        "      for key,val in params.items():\n",
        "        self.v[key] = np.zeros_like(val) \n",
        "    for key in params.keys():\n",
        "      self.v[key] = self.momentum*self.v[key] - self.lr*grads[key] \n",
        "      params[key] += self.v[key]"
      ],
      "metadata": {
        "id": "pgavfRIAikxl"
      },
      "execution_count": null,
      "outputs": []
    },
    {
      "cell_type": "markdown",
      "source": [
        "⚾AdaGrad\n",
        "\n",
        "학습을 진행하면서 학습률을 점차 줄여나간다\n",
        "\n",
        "parameter 중 많이 움직인 것은 학습률을 낮아지게 만드는 원리"
      ],
      "metadata": {
        "id": "fVbQw-WYlfRf"
      }
    },
    {
      "cell_type": "code",
      "source": [
        "class AdaGrad:\n",
        "  def __init__(self,lr=0.01):\n",
        "    self.lr = lr\n",
        "    self.h = None\n",
        "  def update(self,params,grads):\n",
        "    if self.h is None:\n",
        "      self.h = {}\n",
        "      for key, val in params.items():\n",
        "        self.h[key] = np.zeros_like(val) \n",
        "    for key in params.keys():\n",
        "      self.h[key] += grads[key] * grads[key]\n",
        "      params[key] -= self.lr * grads[key] / (np.sqrt(self.h[key]) +  1e-7) "
      ],
      "metadata": {
        "id": "6WTCapq3lhHG"
      },
      "execution_count": null,
      "outputs": []
    },
    {
      "cell_type": "markdown",
      "source": [
        "⚾Adam\n",
        "\n",
        "momentum + Adagrad\n",
        "\n",
        "---\n",
        "\n",
        "위의 4가지 방법 말고도, https://pytorch.org/docs/stable/optim.html 을 보면 다양한 optimizer가 있습니다.\n",
        "\n",
        "각 기법들은 다양한 장단점이 있어서, 풀어야할 문제의 특징에 따라 적절한 기법을 골라서 사용합니다\n",
        "\n",
        "✅ 학습률등의 하이퍼 파라미터, 신경망의 구조등을 어떻게 설정하느냐에 따라서도 결과가 달라집니다.\n",
        "\n",
        "✅ parameter(매개변수. 가중치)의 초깃값을 어떻게 설정하느냐에 따라서도 결과가 달라집니다."
      ],
      "metadata": {
        "id": "CWncYHJnrqB9"
      }
    },
    {
      "cell_type": "markdown",
      "source": [
        "**6. 가중치 초깃값 설정**\n",
        "\n",
        "기본적으로, 각 가중치(parameter)의 초깃값을 최대한 작은 값에서 시작하는게 일반적이며,\n",
        "\n",
        "모두 다른 값으로 세팅해야하는게 좋다.\n",
        "\n",
        "모두 같게 세팅해버리면, 역전파일때 층마다의 가중치가 똑같이 갱신되기 때문에 \n",
        "갱신을 거쳐도 서로 같은 값을 유지한다.\n",
        "\n",
        "(곱셈 노드 참조)\n",
        "\n",
        "---\n",
        "\n",
        "즉 가중치를 여러개 갖는 의미를 사라지게 한다.\n",
        "\n",
        "그래서 지금까지의 가중치 초깃값을 \n",
        "\n",
        "0.01 ^ np. random.randn(10,100)을 사용하였다.\n",
        "\n",
        "---\n"
      ],
      "metadata": {
        "id": "smA7f9y2ta9R"
      }
    },
    {
      "cell_type": "markdown",
      "source": [
        "▶1. 가중치의 표준편차를 1로 설정했을때"
      ],
      "metadata": {
        "id": "pVk4Ykim6GfY"
      }
    },
    {
      "cell_type": "code",
      "source": [
        "import numpy as np\n",
        "import matplotlib.pyplot as plt\n",
        "\n",
        "def sigmoid(x):\n",
        "  return 1 / (1+np.exp(-x))\n",
        "x = np.random.randn(1000,100) \n",
        "node_num = 100 \n",
        "hidden_layer_size = 5\n",
        "activations = {}\n",
        "\n",
        "for i in range(hidden_layer_size):\n",
        "  if i!= 0:\n",
        "    x = activations[i-1]\n",
        "  w = np.random.randn(node_num, node_num) * 1 # 여기에 표준편차를 곱해주는 식이다.\n",
        "  a = np.dot(x,w)\n",
        "  z = sigmoid(a)\n",
        "  activations[i] = z \n",
        "\n",
        "for i,a in activations.items():\n",
        "  plt.subplot(1,len(activations), i+1)\n",
        "  plt.title(str(i+1) + \"-layer\")\n",
        "  plt.hist(a.flatten(), 30, range = (0,1))\n",
        "plt.show()\n",
        "\n",
        "print(\"sigmoid 시각화 \\n\")\n",
        "\n",
        "x = np.linspace(-8, 8, 100)  \n",
        "sig = sigmoid(x)  \n",
        "\n",
        "plt.plot(x, sig) \n",
        "plt.show()    "
      ],
      "metadata": {
        "colab": {
          "base_uri": "https://localhost:8080/",
          "height": 566
        },
        "id": "f418SpqQ6Rlz",
        "outputId": "9560a2e3-90c1-4ac6-fc2c-d732e673aae2"
      },
      "execution_count": 5,
      "outputs": [
        {
          "output_type": "display_data",
          "data": {
            "image/png": "[encoded data removed]",
            "text/plain": [
              "<Figure size 432x288 with 5 Axes>"
            ]
          },
          "metadata": {
            "needs_background": "light"
          }
        },
        {
          "output_type": "stream",
          "name": "stdout",
          "text": [
            "sigmoid 시각화 \n",
            "\n"
          ]
        },
        {
          "output_type": "display_data",
          "data": {
            "image/png": "[encoded data removed]",
            "text/plain": [
              "<Figure size 432x288 with 1 Axes>"
            ]
          },
          "metadata": {
            "needs_background": "light"
          }
        }
      ]
    },
    {
      "cell_type": "markdown",
      "source": [
        "⚾위 그래프에 대한 해석\n",
        "\n",
        "위 계층에서 최종 출력층에 sigmoid 활성화 함수를 사용하였고, \n",
        "\n",
        "이 결과값(forward)를 시각화였다.\n",
        "\n",
        "즉, **sigmoid결과값을 출력**하였는데, 0과 1에 치우쳐져 있음을 알 수 있다.(표준편차가 크기 때문)\n",
        "\n",
        "sigmoid 함수 형태를 보면, 0과 1에 치우쳐저 있으면 기울기가 0에 다가감을 알 수 있다.\n",
        "\n",
        "기울기가 계속 감소하는 것은 좋은 현상이지만, 이렇게 극단적으로 0으로 쏠리게 되면 \n",
        "\n",
        "역전파의 기울기가 소멸되게 되며, 이것을 **기울기 손실**이라고 한다.\n",
        "\n",
        "⭕**위 코드에서는 단순히 순전파로 sigmoid까지 출력한 결과이기 떄문에, sigmoid 함수를 중심으로 기울기를 고려해보았다.**\n",
        "\n",
        "⭕**실제로는 loss함수까지 구해서 loss 함수를 중심으로 기울기를 분석하지만, 신경망의 최종 예측값을 분석한다는 관점에서 동일하다**\n",
        "\n",
        "⭕**신경망이 잘 학습되고 있는지 알아보는 지표정도로만 생각해도 될 것 같다**\n"
      ],
      "metadata": {
        "id": "_Se9nzqY8VfZ"
      }
    },
    {
      "cell_type": "markdown",
      "source": [
        "▶2. 가중치의 표준편차를 0.01로 설정했을때"
      ],
      "metadata": {
        "id": "WLm_2opzL0Fi"
      }
    },
    {
      "cell_type": "code",
      "source": [
        "import numpy as np\n",
        "import matplotlib.pyplot as plt\n",
        "\n",
        "def sigmoid(x):\n",
        "  return 1 / (1+np.exp(-x))\n",
        "x = np.random.randn(1000,100) \n",
        "node_num = 100 \n",
        "hidden_layer_size = 5\n",
        "activations = {}\n",
        "for i in range(hidden_layer_size):\n",
        "  if i!= 0:\n",
        "    x = activations[i-1]\n",
        "  w = np.random.randn(node_num, node_num) * 0.01 #여기가 바뀐 부분입니다.\n",
        "  a = np.dot(x,w)\n",
        "  z = sigmoid(a)\n",
        "  activations[i] = z \n",
        "for i,a in activations.items():\n",
        "  plt.subplot(1,len(activations), i+1)\n",
        "  plt.title(str(i+1) + \"-layer\")\n",
        "  plt.hist(a.flatten(), 30, range = (0,1))\n",
        "plt.show()\n",
        "\n",
        "print(\"sigmoid 시각화 \\n\")\n",
        "\n",
        "x = np.linspace(-8, 8, 100)  \n",
        "sig = sigmoid(x)  \n",
        "\n",
        "plt.plot(x, sig) \n",
        "plt.show()    "
      ],
      "metadata": {
        "colab": {
          "base_uri": "https://localhost:8080/",
          "height": 566
        },
        "id": "xx1tIUrm6ELf",
        "outputId": "418d6d6f-d9b0-4f9f-826d-d334d10064d2"
      },
      "execution_count": 7,
      "outputs": [
        {
          "output_type": "display_data",
          "data": {
            "image/png": "[encoded data removed]",
            "text/plain": [
              "<Figure size 432x288 with 5 Axes>"
            ]
          },
          "metadata": {
            "needs_background": "light"
          }
        },
        {
          "output_type": "stream",
          "name": "stdout",
          "text": [
            "sigmoid 시각화 \n",
            "\n"
          ]
        },
        {
          "output_type": "display_data",
          "data": {
            "image/png": "[encoded data removed]",
            "text/plain": [
              "<Figure size 432x288 with 1 Axes>"
            ]
          },
          "metadata": {
            "needs_background": "light"
          }
        }
      ]
    },
    {
      "cell_type": "markdown",
      "source": [
        "⚾위 그래프에 대한 해석\n",
        "\n",
        "0과 1로 쏠리지 않았지만 0.5 근방으로 집중된 모습. 이렇게 한 값으로 치우치면 표현력이 떨어진다.\n",
        "\n",
        "다양한 뉴런(parameter)를 둔 의미가 없어진다. \n",
        "한개만 둔 것과 차이가 없다. \n",
        "\n",
        "**즉 활성화값이 치우치면 표현력이 제한된다**\n",
        "\n",
        "참고로, 아주 작은 값(0근처)로 출력값(활성화값)이 몰리면 학습 자체가 거의 이루어지지 않음"
      ],
      "metadata": {
        "id": "g0xYjJvuMU0G"
      }
    },
    {
      "cell_type": "markdown",
      "source": [
        "✅그래서 등장한 적절한 값이 Xavier 초깃값이다."
      ],
      "metadata": {
        "id": "YZvX_7YNO8qK"
      }
    },
    {
      "cell_type": "code",
      "source": [
        "import numpy as np\n",
        "import matplotlib.pyplot as plt\n",
        "\n",
        "def sigmoid(x):\n",
        "  return 1 / (1+np.exp(-x))\n",
        "x = np.random.randn(1000,100) \n",
        "node_num = 100 \n",
        "hidden_layer_size = 5\n",
        "activations = {}\n",
        "for i in range(hidden_layer_size):\n",
        "  if i!= 0:\n",
        "    x = activations[i-1]\n",
        "  w = np.random.randn(node_num, node_num) / np.sqrt(node_num) \n",
        "  a = np.dot(x,w)\n",
        "  z = sigmoid(a)\n",
        "  activations[i] = z \n",
        "for i,a in activations.items():\n",
        "  plt.subplot(1,len(activations), i+1)\n",
        "  plt.title(str(i+1) + \"-layer\")\n",
        "  plt.hist(a.flatten(), 30, range = (0,1))\n",
        "plt.show()"
      ],
      "metadata": {
        "colab": {
          "base_uri": "https://localhost:8080/",
          "height": 281
        },
        "id": "LpMR7er2MW2-",
        "outputId": "6dd94a90-597d-4d63-ba0f-e23e39bc7f66"
      },
      "execution_count": 8,
      "outputs": [
        {
          "output_type": "display_data",
          "data": {
            "image/png": "[encoded data removed]",
            "text/plain": [
              "<Figure size 432x288 with 5 Axes>"
            ]
          },
          "metadata": {
            "needs_background": "light"
          }
        }
      ]
    },
    {
      "cell_type": "markdown",
      "source": [
        "⚾위 코드에 대한 해석\n",
        "\n",
        "앞 계층의 노드가 n개라면 표준편차가 1/sqrt(n)인 분포를 사용한다는 원리\n",
        "\n",
        "앞 층 노드가 많으수록 편차가 작아지니 대상 노드의 초깃값으로 설정하는 가중치가 좁게 퍼진다\n",
        "\n",
        "(위 코드에서는 단순히 모든 충의 노드가 100개라고 가정)"
      ],
      "metadata": {
        "id": "30Lq6KNsPVpE"
      }
    },
    {
      "cell_type": "markdown",
      "source": [
        "**7. Xavier와 He**\n",
        "\n",
        "Xavier는 활성화 함수가 선형일때에 해당\n",
        "\n",
        "Relu 같은 비선형 함수에 특화된 초깃값이 바로 **He 초깃값이다.**\n",
        "\n",
        "앞 계층의 노드가 n개라면 표준편차가 sqrt(2) /sqrt(n)인 분포를 사용한다는 원리\n",
        "\n",
        "이렇듯 **가중치(parameter)의 초깃값은 아주 중요하다**"
      ],
      "metadata": {
        "id": "QRVsK9qzQFgQ"
      }
    }
  ]
}