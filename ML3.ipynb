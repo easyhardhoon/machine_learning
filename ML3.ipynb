{
  "nbformat": 4,
  "nbformat_minor": 0,
  "metadata": {
    "colab": {
      "name": "ML3.ipynb",
      "provenance": [],
      "collapsed_sections": [],
      "authorship_tag": "ABX9TyMI4A/WllMg0oJIvGMvXw5e",
      "include_colab_link": true
    },
    "kernelspec": {
      "name": "python3",
      "display_name": "Python 3"
    },
    "language_info": {
      "name": "python"
    }
  },
  "cells": [
    {
      "cell_type": "markdown",
      "metadata": {
        "id": "view-in-github",
        "colab_type": "text"
      },
      "source": [
        "<a href=\"https://colab.research.google.com/github/easyhardhoon/machine_learning/blob/master/ML3.ipynb\" target=\"_parent\"><img src=\"https://colab.research.google.com/assets/colab-badge.svg\" alt=\"Open In Colab\"/></a>"
      ]
    },
    {
      "cell_type": "code",
      "execution_count": 1,
      "metadata": {
        "id": "JnbkBLGKzut9"
      },
      "outputs": [],
      "source": [
        "def step_fuction(x):\n",
        "  if x>0:\n",
        "    return 1\n",
        "  else:\n",
        "    return 0\n",
        "    "
      ]
    },
    {
      "cell_type": "code",
      "source": [
        "import numpy as np\n"
      ],
      "metadata": {
        "id": "zutcsw1cz2Sn"
      },
      "execution_count": 2,
      "outputs": []
    },
    {
      "cell_type": "code",
      "source": [
        "x = np.array([-1.0,1.0,2.0])\n",
        "x"
      ],
      "metadata": {
        "colab": {
          "base_uri": "https://localhost:8080/"
        },
        "id": "4XBqbSf80A8w",
        "outputId": "e45210bf-03d8-452a-d0e6-d08bf814384d"
      },
      "execution_count": 3,
      "outputs": [
        {
          "output_type": "execute_result",
          "data": {
            "text/plain": [
              "array([-1.,  1.,  2.])"
            ]
          },
          "metadata": {},
          "execution_count": 3
        }
      ]
    },
    {
      "cell_type": "code",
      "source": [
        "y = x>0 #numpy에서는 부등호를 사용하면 조건에 맞는 bool형식 배열 형성\n",
        "y"
      ],
      "metadata": {
        "colab": {
          "base_uri": "https://localhost:8080/"
        },
        "id": "4o9UQ4R50ZCx",
        "outputId": "631094da-ab49-4f3b-d931-613ccc769110"
      },
      "execution_count": 4,
      "outputs": [
        {
          "output_type": "execute_result",
          "data": {
            "text/plain": [
              "array([False,  True,  True])"
            ]
          },
          "metadata": {},
          "execution_count": 4
        }
      ]
    },
    {
      "cell_type": "code",
      "source": [
        "def step_function(x):\n",
        "  y = x>0 #np배열 생성\n",
        "  return y.astype(np.int)\n",
        "  #asytpe 함수 : 자료형 변환 함수. bool -> np.int \n",
        "\n",
        "  "
      ],
      "metadata": {
        "id": "Q8QJVyFi0dy3"
      },
      "execution_count": 5,
      "outputs": []
    },
    {
      "cell_type": "code",
      "source": [
        "import numpy as np\n",
        "import matplotlib.pylab as plt\n",
        "\n",
        "x = np.arange(-5.0,5.0,0.1)\n",
        "y = step_function(x)\n",
        "plt.plot(x,y)\n",
        "plt.ylim(-0.1,1.1) #y축의 범위 지정\n",
        "plt.show()"
      ],
      "metadata": {
        "colab": {
          "base_uri": "https://localhost:8080/",
          "height": 265
        },
        "id": "ArZ5FkLW07H7",
        "outputId": "efb3b60a-f98d-4df4-bf5e-e0c0337cbab8"
      },
      "execution_count": 6,
      "outputs": [
        {
          "output_type": "display_data",
          "data": {
            "image/png": "[encoded data removed]",
            "text/plain": [
              "<Figure size 432x288 with 1 Axes>"
            ]
          },
          "metadata": {
            "needs_background": "light"
          }
        }
      ]
    },
    {
      "cell_type": "code",
      "source": [
        "def sigmoid(x):\n",
        "  return 1/(1+np.exp(-x))"
      ],
      "metadata": {
        "id": "VaUv4eiL39tb"
      },
      "execution_count": 7,
      "outputs": []
    },
    {
      "cell_type": "code",
      "source": [
        "x = np.arange(-5.0,5.0,0.1)\n",
        "sigmoid(x) #가능한 이유 : numpy의 보르드캐스트 기능 덕분. 0차원 더하기 1차원 의 계산 가능"
      ],
      "metadata": {
        "colab": {
          "base_uri": "https://localhost:8080/"
        },
        "id": "1YJG7LVw5a8r",
        "outputId": "f67f35a6-8c10-4878-a704-4dba013381bd"
      },
      "execution_count": 8,
      "outputs": [
        {
          "output_type": "execute_result",
          "data": {
            "text/plain": [
              "array([0.00669285, 0.00739154, 0.00816257, 0.0090133 , 0.0099518 ,\n",
              "       0.01098694, 0.01212843, 0.01338692, 0.01477403, 0.0163025 ,\n",
              "       0.01798621, 0.01984031, 0.02188127, 0.02412702, 0.02659699,\n",
              "       0.02931223, 0.03229546, 0.03557119, 0.03916572, 0.04310725,\n",
              "       0.04742587, 0.05215356, 0.05732418, 0.06297336, 0.06913842,\n",
              "       0.07585818, 0.0831727 , 0.09112296, 0.09975049, 0.10909682,\n",
              "       0.11920292, 0.13010847, 0.14185106, 0.15446527, 0.16798161,\n",
              "       0.18242552, 0.19781611, 0.21416502, 0.23147522, 0.24973989,\n",
              "       0.26894142, 0.2890505 , 0.31002552, 0.33181223, 0.35434369,\n",
              "       0.37754067, 0.40131234, 0.42555748, 0.450166  , 0.47502081,\n",
              "       0.5       , 0.52497919, 0.549834  , 0.57444252, 0.59868766,\n",
              "       0.62245933, 0.64565631, 0.66818777, 0.68997448, 0.7109495 ,\n",
              "       0.73105858, 0.75026011, 0.76852478, 0.78583498, 0.80218389,\n",
              "       0.81757448, 0.83201839, 0.84553473, 0.85814894, 0.86989153,\n",
              "       0.88079708, 0.89090318, 0.90024951, 0.90887704, 0.9168273 ,\n",
              "       0.92414182, 0.93086158, 0.93702664, 0.94267582, 0.94784644,\n",
              "       0.95257413, 0.95689275, 0.96083428, 0.96442881, 0.96770454,\n",
              "       0.97068777, 0.97340301, 0.97587298, 0.97811873, 0.98015969,\n",
              "       0.98201379, 0.9836975 , 0.98522597, 0.98661308, 0.98787157,\n",
              "       0.98901306, 0.9900482 , 0.9909867 , 0.99183743, 0.99260846])"
            ]
          },
          "metadata": {},
          "execution_count": 8
        }
      ]
    },
    {
      "cell_type": "code",
      "source": [
        "y = sigmoid(x)\n",
        "plt.plot(x,y)\n",
        "plt.ylim(-0.1,1.1)\n",
        "plt.show()\n",
        "#그래프에서 알 수 있듯 sigmoid 함수는 \"s\"자 모양 함수라는 뜻임"
      ],
      "metadata": {
        "colab": {
          "base_uri": "https://localhost:8080/",
          "height": 265
        },
        "id": "-vCqvr6X5xhD",
        "outputId": "ea873eb3-12ad-40eb-fdf5-67a2a635ecb9"
      },
      "execution_count": 9,
      "outputs": [
        {
          "output_type": "display_data",
          "data": {
            "image/png": "[encoded data removed]",
            "text/plain": [
              "<Figure size 432x288 with 1 Axes>"
            ]
          },
          "metadata": {
            "needs_background": "light"
          }
        }
      ]
    },
    {
      "cell_type": "code",
      "source": [
        "A = np.array([[1,2], [3,4]])\n",
        "B = np.array([[5,6], [7,8]])\n",
        "print(A.shape, B.shape)\n",
        "print(np.dot(A,B))"
      ],
      "metadata": {
        "colab": {
          "base_uri": "https://localhost:8080/"
        },
        "id": "drxqNQdo5821",
        "outputId": "f65b2287-5a0a-48a0-ef2b-e3816ddcc3ab"
      },
      "execution_count": 10,
      "outputs": [
        {
          "output_type": "stream",
          "name": "stdout",
          "text": [
            "(2, 2) (2, 2)\n",
            "[[19 22]\n",
            " [43 50]]\n"
          ]
        }
      ]
    },
    {
      "cell_type": "code",
      "source": [
        "np.ndim(A)"
      ],
      "metadata": {
        "colab": {
          "base_uri": "https://localhost:8080/"
        },
        "id": "K2z6eLo-ipxM",
        "outputId": "6cd21048-7593-4b28-c806-58d93f9d25ac"
      },
      "execution_count": 11,
      "outputs": [
        {
          "output_type": "execute_result",
          "data": {
            "text/plain": [
              "2"
            ]
          },
          "metadata": {},
          "execution_count": 11
        }
      ]
    },
    {
      "cell_type": "code",
      "source": [
        "print(np.dot(B,A)) #행렬 곱"
      ],
      "metadata": {
        "colab": {
          "base_uri": "https://localhost:8080/"
        },
        "id": "RN04JLy3ivod",
        "outputId": "39c7d4bf-72be-435e-d55e-c871c2cb4ade"
      },
      "execution_count": 12,
      "outputs": [
        {
          "output_type": "stream",
          "name": "stdout",
          "text": [
            "[[23 34]\n",
            " [31 46]]\n"
          ]
        }
      ]
    },
    {
      "cell_type": "code",
      "source": [
        "A = np.array([[1,2], [3,4], [5,6]])\n",
        "A.shape"
      ],
      "metadata": {
        "colab": {
          "base_uri": "https://localhost:8080/"
        },
        "id": "GLgdwvx9i_4c",
        "outputId": "df0c1634-6b99-4b29-d15c-b1f8fe3b49b6"
      },
      "execution_count": 13,
      "outputs": [
        {
          "output_type": "execute_result",
          "data": {
            "text/plain": [
              "(3, 2)"
            ]
          },
          "metadata": {},
          "execution_count": 13
        }
      ]
    },
    {
      "cell_type": "code",
      "source": [
        "B = np.array([7,8])\n",
        "B.shape"
      ],
      "metadata": {
        "colab": {
          "base_uri": "https://localhost:8080/"
        },
        "id": "aqGjvAGrlKu3",
        "outputId": "6ff7b559-ea62-4cb3-949c-18411115b122"
      },
      "execution_count": 14,
      "outputs": [
        {
          "output_type": "execute_result",
          "data": {
            "text/plain": [
              "(2,)"
            ]
          },
          "metadata": {},
          "execution_count": 14
        }
      ]
    },
    {
      "cell_type": "code",
      "source": [
        "np.dot(A,B)\n",
        "#A : 3 *2    B: 2* (1) 이니까 대응되는 행열의 원소수가 같으므로 행열곱 실행됌"
      ],
      "metadata": {
        "colab": {
          "base_uri": "https://localhost:8080/"
        },
        "id": "G-vHWqz1lOo-",
        "outputId": "356d6791-0f83-4954-ecca-5c81c021e99a"
      },
      "execution_count": 15,
      "outputs": [
        {
          "output_type": "execute_result",
          "data": {
            "text/plain": [
              "array([23, 53, 83])"
            ]
          },
          "metadata": {},
          "execution_count": 15
        }
      ]
    },
    {
      "cell_type": "code",
      "source": [
        "X = np.array([1,2])\n",
        "W = np.array([[1,3,5],[2,4,6]])\n",
        "Y = np.dot(X,W)\n",
        "Y\n",
        "#행렬곱으로 한꺼번에 계산해주는 기능은 신경망을 구현할때 매우 중요하다"
      ],
      "metadata": {
        "id": "cuBJTFJmlQk-",
        "colab": {
          "base_uri": "https://localhost:8080/"
        },
        "outputId": "cbb45cf3-0fed-4c09-8266-8fca65daa7b5"
      },
      "execution_count": 17,
      "outputs": [
        {
          "output_type": "execute_result",
          "data": {
            "text/plain": [
              "array([ 5, 11, 17])"
            ]
          },
          "metadata": {},
          "execution_count": 17
        }
      ]
    },
    {
      "cell_type": "code",
      "source": [
        "#Y = np.dot(W,X)\n",
        "# 역시나 행렬곱할떄 인접 차원의 개수 같아야함"
      ],
      "metadata": {
        "id": "AGzZHfCNLYHb"
      },
      "execution_count": 22,
      "outputs": []
    },
    {
      "cell_type": "code",
      "source": [
        "X = np.array([1.0,0.5])\n",
        "W1 = np.array([[0.1,0.3,0.5], [0.2,0.4,0.6]])\n",
        "B1 = np.array([0.1,0.2,0.3])\n",
        "A1 = np.dot(X,W1) + B1 \n",
        "#1층의 가중치 및 편향의 값 by 행렬곱"
      ],
      "metadata": {
        "id": "lKhvjUj_LeIh"
      },
      "execution_count": 24,
      "outputs": []
    },
    {
      "cell_type": "code",
      "source": [
        "Z1 = sigmoid(A1)\n",
        "Z1\n",
        "#A1에 활성화함수 sigmoid도입. 활성화함수로 변환된 신호를 z1으로 표기"
      ],
      "metadata": {
        "colab": {
          "base_uri": "https://localhost:8080/"
        },
        "id": "goOZFrZIQiaB",
        "outputId": "292367ff-371c-4b6a-e028-07d50ee013a4"
      },
      "execution_count": 26,
      "outputs": [
        {
          "output_type": "execute_result",
          "data": {
            "text/plain": [
              "array([0.57444252, 0.66818777, 0.75026011])"
            ]
          },
          "metadata": {},
          "execution_count": 26
        }
      ]
    },
    {
      "cell_type": "code",
      "source": [
        "W2 = np.array([[0.1,0.4], [0.2,0.5], [0.3,0.6]])\n",
        "B2 = np.array([0.1,0.2]) #z1에 행렬곱과 더하기를 할때 적절하도록 배열 차원을 정해주었습니다\n",
        "A2 = np.dot(Z1,W2) + B2 #2층의 가중치 및 편향의 값 by 행렬곱\n",
        "Z2 = sigmoid(A2) #A2에 활성화함수 도입. 결과물 Z2"
      ],
      "metadata": {
        "id": "1sQLGG8-QmiP"
      },
      "execution_count": 27,
      "outputs": []
    },
    {
      "cell_type": "code",
      "source": [
        "Z2"
      ],
      "metadata": {
        "colab": {
          "base_uri": "https://localhost:8080/"
        },
        "id": "flKjJyGgS1wm",
        "outputId": "d1464ad1-936f-4857-c1c6-841f47842b57"
      },
      "execution_count": 28,
      "outputs": [
        {
          "output_type": "execute_result",
          "data": {
            "text/plain": [
              "array([0.62624937, 0.7710107 ])"
            ]
          },
          "metadata": {},
          "execution_count": 28
        }
      ]
    },
    {
      "cell_type": "code",
      "source": [
        "def identity_function(x):\n",
        "  return x\n",
        "W3 = np.array([[0.1,0.3], [0.2,0.4]])\n",
        "B3 = np.array([0.1,0.2])\n",
        "A3 = np.dot(Z2,W3) + B3\n",
        "Y = identity_function(A3)\n",
        "Y # 마지막 출력층에서는 sigmoid가 아닌 항등함수를 활성화함수로 사용한 모습"
      ],
      "metadata": {
        "colab": {
          "base_uri": "https://localhost:8080/"
        },
        "id": "I7ENI5M8TdbL",
        "outputId": "3acb91b5-a601-46a2-de34-11b46cb40c3c"
      },
      "execution_count": 31,
      "outputs": [
        {
          "output_type": "execute_result",
          "data": {
            "text/plain": [
              "array([0.31682708, 0.69627909])"
            ]
          },
          "metadata": {},
          "execution_count": 31
        }
      ]
    },
    {
      "cell_type": "code",
      "source": [
        "def init_network():\n",
        "  network = {}\n",
        "  network['w1'] = np.array([[0.1,0.3,0.5], [0.2,0.4,0.6]])\n",
        "  network['b1'] = np.array([0.1,0.2,0.3])\n",
        "  network['w2'] = np.array([[0.1,0.4], [0.2,0.5], [0.3,0.6]])\n",
        "  network['b2'] = np.array([0.1,0.2])\n",
        "  network['w3'] = np.array([[0.1,0.3], [0.2,0.4]])\n",
        "  network['b3'] = np.array([0.1,0.2])\n",
        "  return network\n",
        "def forward(network,x):\n",
        "  w1,w2,w3 = network['w1'], network['w2'], network['w3']\n",
        "  b1,b2,b3 = network['b1'], network['b2'], network['b3']\n",
        "  a1 = np.dot(x,w1) + b1\n",
        "  z1 = sigmoid(a1)\n",
        "  a2 = np.dot(z1,w2) + b2\n",
        "  z2 = sigmoid(a2)\n",
        "  a3 = np.dot(z2,w3) + b3\n",
        "  y = identity_function(a3)\n",
        "  return y\n",
        "network = init_network()\n",
        "x = np.array([1.0,0.5])\n",
        "y = forward(network,x)\n",
        "y \n",
        "#최종 정리본. init_network함수로 딕셔너리에 초기화. forward로 순반향 신호 전달 신경망 완성."
      ],
      "metadata": {
        "colab": {
          "base_uri": "https://localhost:8080/"
        },
        "id": "xrPZfQbHULCN",
        "outputId": "fd520fe4-f800-4fc9-97c8-4aa3c75aca4b"
      },
      "execution_count": 34,
      "outputs": [
        {
          "output_type": "execute_result",
          "data": {
            "text/plain": [
              "array([0.31682708, 0.69627909])"
            ]
          },
          "metadata": {},
          "execution_count": 34
        }
      ]
    },
    {
      "cell_type": "code",
      "source": [
        "a = np.array([0.3,2.9,4.0])\n",
        "exp_a = np.exp(a)\n",
        "exp_a"
      ],
      "metadata": {
        "colab": {
          "base_uri": "https://localhost:8080/"
        },
        "id": "uI4FVU6yXr0s",
        "outputId": "64a0f75f-be4c-4645-a414-0da27fc48e8a"
      },
      "execution_count": 35,
      "outputs": [
        {
          "output_type": "execute_result",
          "data": {
            "text/plain": [
              "array([ 1.34985881, 18.17414537, 54.59815003])"
            ]
          },
          "metadata": {},
          "execution_count": 35
        }
      ]
    },
    {
      "cell_type": "code",
      "source": [
        "sum_exp_a = np.sum(exp_a)\n",
        "sum_exp_a"
      ],
      "metadata": {
        "colab": {
          "base_uri": "https://localhost:8080/"
        },
        "id": "dp3swdKkkp8u",
        "outputId": "83e2507b-c894-4d46-cd3d-e2fdd1e8c158"
      },
      "execution_count": 37,
      "outputs": [
        {
          "output_type": "execute_result",
          "data": {
            "text/plain": [
              "74.1221542101633"
            ]
          },
          "metadata": {},
          "execution_count": 37
        }
      ]
    },
    {
      "cell_type": "code",
      "source": [
        "y  = exp_a / sum_exp_a\n",
        "y #softmax 함수의 구현"
      ],
      "metadata": {
        "colab": {
          "base_uri": "https://localhost:8080/"
        },
        "id": "17vW3srUkzFx",
        "outputId": "55491801-ceef-4d4f-c1cd-376e066f9d6f"
      },
      "execution_count": 38,
      "outputs": [
        {
          "output_type": "execute_result",
          "data": {
            "text/plain": [
              "array([0.01821127, 0.24519181, 0.73659691])"
            ]
          },
          "metadata": {},
          "execution_count": 38
        }
      ]
    },
    {
      "cell_type": "code",
      "source": [
        "#일반화 \n",
        "def softmax(a):\n",
        "  exp_a = np.exp(a)\n",
        "  sum_exp_a = np.sum(exp_a)\n",
        "  y = exp_a / sum_exp_a\n",
        "  return y\n",
        "  # 너무 큰 값 ex ) e**100 / e **99 같은거 컴구상 NAN이 나옴"
      ],
      "metadata": {
        "id": "Fc2LRcfdk5Dm"
      },
      "execution_count": 40,
      "outputs": []
    },
    {
      "cell_type": "code",
      "source": [
        "def softmax(a):\n",
        "  c = np.max(a)\n",
        "  exp_a = np.exp(a-c) #오버플로우 대비책\n",
        "  sum_exp_a = np.sum(exp_a)\n",
        "  y = exp_a/sum_exp_a\n",
        "  return y\n",
        "  # 찐 sotfmax 함수."
      ],
      "metadata": {
        "id": "2PJ3XCDIleXg"
      },
      "execution_count": 41,
      "outputs": []
    },
    {
      "cell_type": "code",
      "source": [
        ""
      ],
      "metadata": {
        "id": "ILu8m5RGoGXM"
      },
      "execution_count": null,
      "outputs": []
    }
  ]
}