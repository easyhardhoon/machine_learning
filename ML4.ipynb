{
  "nbformat": 4,
  "nbformat_minor": 0,
  "metadata": {
    "colab": {
      "name": "ML4.ipynb",
      "provenance": [],
      "collapsed_sections": [],
      "authorship_tag": "ABX9TyP/v3eU57jsLXhJmeeDpu5A",
      "include_colab_link": true
    },
    "kernelspec": {
      "name": "python3",
      "display_name": "Python 3"
    },
    "language_info": {
      "name": "python"
    }
  },
  "cells": [
    {
      "cell_type": "markdown",
      "metadata": {
        "id": "view-in-github",
        "colab_type": "text"
      },
      "source": [
        "<a href=\"https://colab.research.google.com/github/easyhardhoon/machine_learning/blob/master/ML4.ipynb\" target=\"_parent\"><img src=\"https://colab.research.google.com/assets/colab-badge.svg\" alt=\"Open In Colab\"/></a>"
      ]
    },
    {
      "cell_type": "code",
      "execution_count": 17,
      "metadata": {
        "id": "kKU2qA2ntABR"
      },
      "outputs": [],
      "source": [
        "import numpy as np"
      ]
    },
    {
      "cell_type": "code",
      "source": [
        "def softmax(a):\n",
        "  c = np.max(a)\n",
        "  exp_a = np.exp(a-c)\n",
        "  sum_exp_a = np.sum(exp_a)\n",
        "  y = exp_a/sum_exp_a\n",
        "  return y\n"
      ],
      "metadata": {
        "id": "N12Zd5OftF6W"
      },
      "execution_count": 18,
      "outputs": []
    },
    {
      "cell_type": "code",
      "source": [
        "a = np.array([0.3,2.9,4.0])\n",
        "y = softmax(a)\n",
        "y"
      ],
      "metadata": {
        "colab": {
          "base_uri": "https://localhost:8080/"
        },
        "id": "Gd7hKQtdtUZD",
        "outputId": "c30bd557-52ad-43a4-bb1b-ea94de9a0e6b"
      },
      "execution_count": 19,
      "outputs": [
        {
          "output_type": "execute_result",
          "data": {
            "text/plain": [
              "array([0.01821127, 0.24519181, 0.73659691])"
            ]
          },
          "metadata": {},
          "execution_count": 19
        }
      ]
    },
    {
      "cell_type": "code",
      "source": [
        "np.sum(y)\n",
        "#softmax 함수의 특징. 총합은 항상 1이다. 덕분에 문제를 확률적으로 대응가능. 또한 softmax 함수는 단조증가함수. \n",
        "# 그래서 단순 분류할때는 소프트맥스 생략. 학습시킬떄는 소프트맥스 함수 사용. \n",
        "# 자연스레 분류문제에서 출력층 뉴런은 분류하고 싶은 클래스의 수만큼 설정하는것이 일반적. \n"
      ],
      "metadata": {
        "colab": {
          "base_uri": "https://localhost:8080/"
        },
        "id": "fBAGwNx6tZt3",
        "outputId": "0225bb70-1a48-4e9c-9474-44bc1b30813c"
      },
      "execution_count": 20,
      "outputs": [
        {
          "output_type": "execute_result",
          "data": {
            "text/plain": [
              "1.0"
            ]
          },
          "metadata": {},
          "execution_count": 20
        }
      ]
    },
    {
      "cell_type": "code",
      "source": [
        "import sys, os\n",
        "sys.path.append(os.pardir) #부모 디렉터리의 파일을 가져올 수 있도록 설정. 여기서는 사용하지않음\n",
        " "
      ],
      "metadata": {
        "id": "fVLi4y40t4uR"
      },
      "execution_count": 21,
      "outputs": []
    },
    {
      "cell_type": "code",
      "source": [
        "from mnist import load_mnist #깃허브에서 끌어왔습니다."
      ],
      "metadata": {
        "id": "LfuJJ46awq-P"
      },
      "execution_count": 56,
      "outputs": []
    },
    {
      "cell_type": "code",
      "source": [
        "(x_train, t_train), (x_test, t_test) = load_mnist(flatten=True, normalize=False)\n",
        "#MNIST 데이터셋을 다운받아 이미지를 넘파이 배열로 변환해주는 함수"
      ],
      "metadata": {
        "id": "3gKHUdwUwt9s"
      },
      "execution_count": 57,
      "outputs": []
    },
    {
      "cell_type": "code",
      "source": [
        "print(x_train.shape)\n",
        "print(t_train.shape)\n",
        "print(x_test.shape)\n",
        "print(t_test.shape)"
      ],
      "metadata": {
        "colab": {
          "base_uri": "https://localhost:8080/"
        },
        "id": "sPEIFdiRxs58",
        "outputId": "67ad2a75-c5d7-442b-d614-f1a79e845527"
      },
      "execution_count": 58,
      "outputs": [
        {
          "output_type": "stream",
          "name": "stdout",
          "text": [
            "(60000, 784)\n",
            "(60000,)\n",
            "(10000, 784)\n",
            "(10000,)\n"
          ]
        }
      ]
    },
    {
      "cell_type": "code",
      "source": [
        "from PIL import Image\n",
        "#from IPython.display import Image\n",
        "def img_show(img):\n",
        "  pil_img = Image.fromarray(np.uint8(img))\n",
        "  display(pil_img) # 대신 이거 쓰면 됌\n",
        "  #pil_img.show()  #ipython에서는 이게 안됌. ex) google colabo, jupyter notebook\n",
        "img= x_train[0]\n",
        "label = t_train[0]\n",
        "print(label)\n",
        "print(img.shape)\n",
        "img = img.reshape(28,28)\n",
        "print(img.shape)\n",
        "\n",
        "img_show(img) #이게 왜 안나오지\n",
        "#이제 나옴"
      ],
      "metadata": {
        "colab": {
          "base_uri": "https://localhost:8080/",
          "height": 99
        },
        "id": "cxgqJ1Box4IV",
        "outputId": "91903c42-c5ba-4136-aa2d-7b7261a3a7f8"
      },
      "execution_count": 59,
      "outputs": [
        {
          "output_type": "stream",
          "name": "stdout",
          "text": [
            "5\n",
            "(784,)\n",
            "(28, 28)\n"
          ]
        },
        {
          "output_type": "display_data",
          "data": {
            "image/png": "[encoded data removed]",
            "text/plain": [
              "<PIL.Image.Image image mode=L size=28x28 at 0x7F1B2B3F5510>"
            ]
          },
          "metadata": {}
        }
      ]
    },
    {
      "cell_type": "code",
      "source": [
        "def sigmoid(x):\n",
        "  return 1/ (1 + np.exp(-x))"
      ],
      "metadata": {
        "id": "w98CeqkHdERo"
      },
      "execution_count": 62,
      "outputs": []
    },
    {
      "cell_type": "code",
      "source": [
        "import pickle\n",
        "def get_data():\n",
        "  (x_train, t_train), (x_test, t_test) = load_mnist(normalize=True, flatten= True, one_hot_label = False)\n",
        "  return x_test, t_test\n",
        "  # x_test는 시험 이미지 배열이고, t_test는 각각에 대한 정답 배열이다\n",
        "def init_network():\n",
        "  with open(\"/content/sample_weight.pkl\", 'rb') as f:\n",
        "    network = pickle.load(f)\n",
        "  return network\n",
        "  # pickle 파일인 ..에 저장된 학습된 가중치 매개변수를 읽어와서(딕셔너리 변수로 저장되어있음) network에 저장\n",
        "def predict(network, x):\n",
        "  W1,W2,W3 = network['W1'], network['W2'], network['W3']\n",
        "  b1,b2,b3 = network['b1'], network['b2'], network['b3']\n",
        "  a1 = np.dot(x,W1) + b1\n",
        "  z1 = sigmoid(a1)\n",
        "  a2 = np.dot(z1,W2) + b2\n",
        "  z2 = sigmoid(a2)\n",
        "  a3 = np.dot(z2,W3) + b3\n",
        "  y = softmax(a3)\n",
        "  return y\n",
        "  # 각 0~9 후보군 별 추정확률로 이루어진 넘파이 배열 리턴\n",
        "\n",
        "x ,t = get_data()\n",
        "network = init_network()\n",
        "accuracy_cnt = 0 #그냥 맞춘 횟수\n",
        "for i in range(len(x)):\n",
        "  y = predict(network, x[i]) # x 의 배열 원소 하나하나 돌며 이미지 파일 각각 정답여부 확인\n",
        "  p = np.argmax(y) #y중 가장 높은 확률을 차지한 인덱스 리턴. 예측결과를 리턴!~\n",
        "  if p == t[i]:# 그 인덱스가 정답과 맞는가\n",
        "    accuracy_cnt += 1\n",
        "print(\"Accruacy : \" + str(float(accuracy_cnt) / len(x)))\n",
        "# 93,52 퍼센트. 정확도를 더 높이는 방법(hidden layer, batch...등등)은 다음에 소개\n",
        "# load_mnist의 normalize을 true로 설정함. 픽셀 값 변환. 0~1의 값으로 정규화.\n",
        "# 정규화 : 데이터를 특정 범위로 변환하는 처리\n",
        "# 전처리 : 신경망의 입력 데이터에 특정 변환을 가하는 것\n",
        "# 입력 이미지 데이터에 대한 전처리 작업으로 정규화를 수행함\n",
        "# 신경망의 구조 ---------> 입력층 뉴런 : 784개, 출력층 뉴런 : 10개, 은닉층 뉴런 : 50 / 100 (이건 그냥 임의임)\n",
        "# 이유 : 하나의 이미지 파일의 크기가 28 * 28 사이즈기 떄문\n",
        "# 이유 : 이 문제가 0~9 에서 어떤 숫자인지 구분하는 문제이기 떄문\n",
        "# 이 값들은 pkl 파일에 내장되어있음\n",
        "# 이렇게 입력 데이터 배열의 인덱스 하나하나씩 predict 인공신경망 확률을 구해서 비교하는 알고리즘임\n",
        "# 이때 입력 데이터를 load_mnist에서 그냥 가져오는게 아니라 normalize을 true로 켜서\n",
        "# 픽셀 값을 0~1로 변환하는 (정규화하는) 과정을 전처리라고 한다\n",
        "# 정리 : 입력 이미지 데이터에 대한 전처리 작업으로 정규화를 수행함"
      ],
      "metadata": {
        "colab": {
          "base_uri": "https://localhost:8080/"
        },
        "id": "kG6Ie23X45wT",
        "outputId": "838d3c51-269d-40ff-b73f-fa3ad5950212"
      },
      "execution_count": 64,
      "outputs": [
        {
          "output_type": "stream",
          "name": "stdout",
          "text": [
            "Accruacy : 0.9352\n"
          ]
        }
      ]
    },
    {
      "cell_type": "code",
      "source": [
        "# 전처리는 식별 능력 개선/ 학습 속도 향상 등의 이유로 현업에서 많이 쓰임. \n",
        "# 데이터를 끌고 올때 왠만하면 좀더 가공한 것으로 가져오자는 느낌"
      ],
      "metadata": {
        "id": "XyEM8DiB6Gop"
      },
      "execution_count": 65,
      "outputs": []
    },
    {
      "cell_type": "code",
      "source": [
        "#batch : 큰 거 하나가 작은거 여러개보다 컴퓨턴 훨씬 빠르게 학습\n",
        "x,t = get_data()\n",
        "network = init_network()\n",
        "batch_size = 100\n",
        "accuracy_cnt  = 0\n",
        "for i in range(0, len(x), batch_size): # 간격 : batch_size \n",
        "  x_batch = x[i:i+batch_size]\n",
        "  y_batch = predict(network, x_batch)\n",
        "  p = np.argmax(y_batch, axis=1) # 100 *10 배열중 각각의 배열 (100 기준) [이게 1번째 차원이라는 뜻] 에서 최댓값의 인덱스 찾기. 결과값은 당연히 1*100 배열\n",
        "  accuracy_cnt += np.sum(p == t[i:i+batch_size])\n",
        "  # 마찬가지로 ==는 넘파이 배열끼리 간 비교한 bool 배열. true면 1로 인식. sum을 통해 결과배열에서 true가 몇개인지 세서 리턴. 결과적으로 batch 안한거랑 동일 \n",
        "print(\"Accuracy : \" + str(float(accuracy_cnt)/ len(x)))"
      ],
      "metadata": {
        "colab": {
          "base_uri": "https://localhost:8080/"
        },
        "id": "mK2awF89uTt8",
        "outputId": "6fde4b32-394e-40bf-b78f-b0219a3cf161"
      },
      "execution_count": 68,
      "outputs": [
        {
          "output_type": "stream",
          "name": "stdout",
          "text": [
            "Accuracy : 0.9352\n"
          ]
        }
      ]
    },
    {
      "cell_type": "code",
      "source": [
        ""
      ],
      "metadata": {
        "id": "A0E_Pmn75yXa"
      },
      "execution_count": null,
      "outputs": []
    }
  ]
}