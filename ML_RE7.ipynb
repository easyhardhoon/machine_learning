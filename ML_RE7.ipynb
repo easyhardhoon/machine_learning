{
  "nbformat": 4,
  "nbformat_minor": 0,
  "metadata": {
    "colab": {
      "name": "ML_RE7.ipynb",
      "provenance": [],
      "collapsed_sections": [],
      "authorship_tag": "ABX9TyOllXDZbKBFmdpaMXHgVCJ8",
      "include_colab_link": true
    },
    "kernelspec": {
      "name": "python3",
      "display_name": "Python 3"
    },
    "language_info": {
      "name": "python"
    }
  },
  "cells": [
    {
      "cell_type": "markdown",
      "metadata": {
        "id": "view-in-github",
        "colab_type": "text"
      },
      "source": [
        "<a href=\"https://colab.research.google.com/github/easyhardhoon/machine_learning_basic/blob/master/ML_RE7.ipynb\" target=\"_parent\"><img src=\"https://colab.research.google.com/assets/colab-badge.svg\" alt=\"Open In Colab\"/></a>"
      ]
    },
    {
      "cell_type": "markdown",
      "source": [
        "✅ML14~ML15"
      ],
      "metadata": {
        "id": "qICxNTVds24c"
      }
    },
    {
      "cell_type": "markdown",
      "source": [
        "**1. CNN**\n",
        "\n",
        "+ Affine(완전연결계층) : affine + (활성화함수)\n",
        "\n",
        "+ CNN(합성곱신경망) : conv + (활성화함수) + (Pooling) + .....+ affine + (활성화함수)\n",
        "\n",
        "CNN은 완전연결신경망과 달리 3차원 데이터의 표현이 가능하다. ( ex) 이미지 )\n",
        "\n",
        "이미지 같은 3차원 형상 데이터에는, 3차원만의 공간적 정보와 패턴이 들어있다. \n",
        "\n",
        "⚾사실 MNIST에서는...\n",
        "\n",
        "지금까지의 NET은 이 3차원 데이터(1,28,28)를 억지로 flatten하여 1차원으로 변환(784,)하였다.\n",
        "\n",
        "3차원 형상을 무시하고 모든 입력 데이터를 동등한 뉴런으로 취급하여 형상에 담긴 정보를 살릴 수 없었다.\n",
        "\n",
        "하지만 CNN을 사용하게 되면 이러한 형상의 유지가 가능하다. \n",
        "\n",
        "---\n",
        "\n",
        "affine 계층의 연산은 **행렬곱**\n",
        "\n",
        "conv 계층의 연산은 **합성곱**\n",
        "\n",
        "입력 데이터에 필터를 적용하여 연산한다.\n",
        "\n",
        "이 필터의 매개변수가 가중치에 해당하며, 편향도 똑같이 존재한다.\n",
        "\n",
        "편향은 필터를 적용한 후의 데이터에 더해지고, 항상 하나만 존재한다.\n",
        "\n",
        "---\n",
        "\n",
        "✈padding : 합성곱 연산을 수행하기 전에 입력 데이터 주변을 특정 값(0)으로 채우는 기법\n",
        "\n",
        "입력 데이터의 공간적 크기를 고정한 채로 다음 계층에 전달할 수 있다. 심층 신경망에서 효과적\n",
        "\n",
        "✈stride : 필터를 적용하는 간격\n",
        "\n",
        "스트라이드를 키울수록, 패딩을 작게 할수록 출력 크기가 작아진다. \n"
      ],
      "metadata": {
        "id": "NsqZ0H6EWwpK"
      }
    },
    {
      "cell_type": "markdown",
      "source": [
        "**2. 3차원 데이터의 합성곱 연산**\n",
        "\n",
        "✅**입력 데이터와 필터의 합성곱 연산을 채널마다 수행하고 그 결과를 더해서 하나의 출력을 얻는다**\n",
        "\n",
        "✅**필터의 채널 수와 입력 데이터의 채널 수가 같아야한다**\n",
        "\n",
        "✅**편향 (FN, 1,1)은 출력 결과의 형상에 영향을 주지 않는다**\n",
        "\n",
        "(N,C,H,W) * (FN,C,FH,FW) --> (N,FN,OH,OW)\n",
        "\n",
        "(N,FN,OH,OW) + (FN,1,1) ---> (N,FN,OH,OW)\n",
        "\n",
        "N : 데이터 수 \n",
        "\n",
        "C : 채널 수\n",
        "\n",
        "H : 높이(y축)\n",
        "\n",
        "W : 너비(x축)"
      ],
      "metadata": {
        "id": "zURzdhMy5rEt"
      }
    },
    {
      "cell_type": "markdown",
      "source": [
        "**3. 풀링 계층**\n",
        "\n",
        "세로, 가로 방향의 공간을 줄이는 연산\n",
        "\n",
        "풀링의 윈도우 크기가 2^2이면, 2^2 영역을 원소 하나(1^1)로 집약하여 공간 크기를 줄인다\n",
        "\n",
        "최대 풀링 : 윈도우 안의 값 중 최댓값 하나를 꺼낸다\n",
        "\n",
        "평균 풀링 : 윈도우 안의 값의 평균을 계산해 그 값을 꺼낸다\n",
        "\n",
        "**풀링의 윈도우 크기와 스트라이드는 같은 값으로 설정**\n",
        "\n",
        "⚾풀링 계층의 특징\n",
        "\n",
        "1. 학습해야 할 매개변수가 없다\n",
        "\n",
        "2. 채널 수가 변하지 않는다.\n",
        "\n",
        "3. 입력의 변화에 영향을 적게 받는다."
      ],
      "metadata": {
        "id": "cipVwqvH_Bc6"
      }
    },
    {
      "cell_type": "markdown",
      "source": [
        "**4. CNN 구현**\n",
        "\n",
        "CNN에 흐르는 데이터는 4차원이기 때문에, 편의를 위해 im2col을 통해 2차원으로 바꾸어준다.\n",
        "\n",
        "⏰im2col \n",
        "\n",
        "    4차원 데이터를 2차원 데이터로 펼치는 함수\n",
        "    스트라이드가 크지 않아 필터의 적용 영역이 겹치는 일이 대부분이다.\n",
        "    그래서 im2col로 전개한 이후의 원소 수가 원래 블럭의 원소 수보다 많아질 수 있다.\n",
        "    (각 데이터가 1개가 아니고 1.4개가 필요해서 미리 키워주는 느낌)\n",
        "\n",
        "    \n",
        "im2col을 사용하게 되면, 4차원 데이터를 2차원 행렬로 표현할 수 있고 \n",
        "\n",
        "이를 통해 각 필터(C,FH,FW)에 대해 **행렬 곱을 수행하는 affine 계층의 논리를 구현**할 수 있다.\n",
        "\n",
        "또한 출력 데이터는 2차원이기 때문에, CNN의 논리대로 4차원으로 다시 바꾸어 놓아야한다.\n",
        "\n",
        "합성곱을 코드로 표현하기가 번거로우니 행렬곱으로 나타낸다는 원리이다\n",
        "\n",
        "핵심은 **입력값&필터의 채널간 합성곱(행렬곱)의 집합이다**\n",
        "\n",
        "---\n",
        "\n",
        "⏰주의 사항\n",
        "\n",
        "    입력 데이터의 채널 수와 필터의 채널 수는 같아야한다\n",
        "    3차원 입력 데이터(데이터가 1개)와 3차원 필터(필터가 1개)의 합성곱의 출력데이터는 2차원(채널이 1개)이다.\n",
        "    출력데이터를 3차원으로 하고 싶다면 필터의 개수를 FN개로 설정한다.\n",
        "    또한 입력 데이터를 4차원으로 하면 각 데이터마다 FN개의 필터와의 합성곱이 이뤄지므로 출력데이터가 4차원이된다.\n",
        "    따라서 입력 데이터, 필터, 출력 데이터 모두 4차원으로 보는 것이 바람직하다\n",
        "\n",
        "\n",
        "\n",
        "\n"
      ],
      "metadata": {
        "id": "pm7vLljsEPhS"
      }
    },
    {
      "cell_type": "code",
      "execution_count": null,
      "metadata": {
        "id": "_E8meQfGsxp_",
        "colab": {
          "base_uri": "https://localhost:8080/"
        },
        "outputId": "210f2e3c-5ece-4e98-c11d-b520a84f7b5d"
      },
      "outputs": [
        {
          "output_type": "stream",
          "name": "stdout",
          "text": [
            "(9, 75)\n",
            "(90, 75)\n"
          ]
        }
      ],
      "source": [
        "from util import im2col\n",
        "import numpy as np\n",
        "x1 = np.random.rand(1,3,7,7)\n",
        "col1 = im2col(x1,5,5,stride=1,pad=0)\n",
        "print(col1.shape)\n",
        "x2 = np.random.rand(10,3,7,7)\n",
        "col2 = im2col(x2,5,5,stride=1,pad=0)\n",
        "print(col2.shape)"
      ]
    },
    {
      "cell_type": "markdown",
      "source": [
        "\n",
        "✔im2col(input_data, filter_h, filter_w, stride, pad)\n",
        "\n",
        "    인자에 필터의 정보와 스트라이드,패딩의 크기가 들어감\n",
        "    2차원 행렬로 나타낼때 필터의 정보와 합성곱 스킬들의 정보가 필요함을 의미\n",
        "\n",
        "---\n",
        "✔필터\n",
        "\n",
        "    원래는 가로세로로 이루어진 2차원 공간이다.\n",
        "    채널 축과 데이터 축이 합쳐지게 되어 4차원까지 확장이 가능하다.\n",
        "    입력 데이터의 각 채널, 즉 2차원 데이터는 필터가 아니다.\n",
        "\n",
        "---\n",
        "\n",
        "**핵심은 입력데이터와 필터 사이의 채널 간 2차원 합성곱(행렬곱)연산이다**\n",
        "\n",
        "---\n",
        "\n",
        "✔필터에는 im2col을 하지 않고 입력 데이터에만 im2col을 하는 이유\n",
        "\n",
        "    스트라이드와 패딩은 필터를 적용하기 위한 입력 데이터의 준비과정이다\n",
        "    즉, im2col의 인자인 filter_h, filter_w, stride, pad는 모두 합성곱 연산을 위한(필터를 위한) 데이터 세팅의 역할을 한다고 볼 수 있다.\n",
        "\n",
        "✔**위의 코드에서 col.shape의 의미**\n",
        "\n",
        "    im2col을 통해 최초의 4차원 입력 데이터를 합성곱 연산을 고려하여 2차원 데이터로 flatten시켰다. \n",
        "    filter_h,filter_w,pad,stride를 참조하여 x축(가로)을 조정했기 때문에, col의 x축은 각 필터의 전체 원소의 합이라고 볼 수 있다.\n",
        "    (여기서 각 필터란 (C,FH,FW)을 의미. 즉 각각의 필터는 3차원이다)\n",
        "\n",
        "    마찬가지로 col의 y축은 합성곱 연산을 고려하여 만들어졌기 때문에 \n",
        "    하나의 입력 데이터를 예로 들면 한줄로 표현가능했던 데이터를 N줄로 늘릴 수 있다.\n",
        "    그래서 y축은 원래 입력 데이터의 개수의 배수에 비례함을 알 수 있다.\n",
        "\n",
        "    마찬가지로 필터도 im2col을 사용하진 않지만 reshape를 거쳐 (데이터 별) 평탄화가 이루어지므로, \n",
        "    기본적으로 데이터 1개 & 필터 1개의 조합으로 연산이 이루어진다는 흐름을 이해하자."
      ],
      "metadata": {
        "id": "JRybIiTCHFt-"
      }
    },
    {
      "cell_type": "code",
      "source": [
        ""
      ],
      "metadata": {
        "id": "pXvDhKLcTKti"
      },
      "execution_count": null,
      "outputs": []
    }
  ]
}